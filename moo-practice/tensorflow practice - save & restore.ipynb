{
 "cells": [
  {
   "cell_type": "code",
   "execution_count": 1,
   "metadata": {
    "collapsed": true
   },
   "outputs": [],
   "source": [
    "# save & restore in tensorflow\n",
    "import numpy as np\n",
    "import tensorflow as tf"
   ]
  },
  {
   "cell_type": "code",
   "execution_count": 2,
   "metadata": {},
   "outputs": [
    {
     "name": "stdout",
     "output_type": "stream",
     "text": [
      "Weights: \n",
      "[[ 0.11619949 -0.12168008  0.00361604 -0.09559458]\n",
      " [ 0.09213245  0.04759819 -0.00943307  0.15156533]\n",
      " [-0.03452    -0.00723098 -0.16533849  0.05939751]]\n",
      "Bias: \n",
      "[ 0.  0.  0.  0.]\n"
     ]
    }
   ],
   "source": [
    "# specify save file name\n",
    "save_file = './model.ckpt'\n",
    "\n",
    "# create two tensor variable\n",
    "number_of_inputs = 3\n",
    "number_of_hidden_layer = 4\n",
    "weights = tf.Variable( tf.truncated_normal([number_of_inputs, number_of_hidden_layer], stddev=0.1, mean=0) )\n",
    "bias = tf.Variable( tf.zeros(number_of_hidden_layer) )\n",
    "\n",
    "# initiate saver\n",
    "saver = tf.train.Saver()\n",
    "\n",
    "# start tensorflow session\n",
    "with tf.Session() as sess:\n",
    "    # initialize all variables\n",
    "    sess.run(tf.global_variables_initializer())\n",
    "    \n",
    "    # print variables\n",
    "    print('Weights: ')\n",
    "    print(sess.run(weights))\n",
    "    print('Bias: ')\n",
    "    print(sess.run(bias))\n",
    "    \n",
    "    # save model\n",
    "    saver.save(sess, save_file)\n",
    "\n"
   ]
  },
  {
   "cell_type": "code",
   "execution_count": 4,
   "metadata": {},
   "outputs": [
    {
     "name": "stdout",
     "output_type": "stream",
     "text": [
      "Weight:\n",
      "[[ 0.11619949 -0.12168008  0.00361604 -0.09559458]\n",
      " [ 0.09213245  0.04759819 -0.00943307  0.15156533]\n",
      " [-0.03452    -0.00723098 -0.16533849  0.05939751]]\n",
      "Bias:\n",
      "[ 0.  0.  0.  0.]\n"
     ]
    }
   ],
   "source": [
    "# remove previous variables\n",
    "tf.reset_default_graph()\n",
    "\n",
    "# Two Variables: weights and bias\n",
    "weights = tf.Variable( tf.truncated_normal([number_of_inputs, number_of_hidden_layer]) )\n",
    "bias = tf.Variable( tf.zeros(number_of_hidden_layer) )\n",
    "\n",
    "# Class used to save and/or restore Tensor Variables\n",
    "saver = tf.train.Saver()\n",
    "\n",
    "with tf.Session() as sess:\n",
    "    # Load the weights and bias\n",
    "    saver.restore(sess, save_file)\n",
    "\n",
    "    # Show the values of weights and bias\n",
    "    print('Weight:')\n",
    "    print(sess.run(weights))\n",
    "    print('Bias:')\n",
    "    print(sess.run(bias))"
   ]
  },
  {
   "cell_type": "code",
   "execution_count": 5,
   "metadata": {
    "collapsed": true
   },
   "outputs": [],
   "source": [
    "# Save trained model\n",
    "from tensorflow.examples.tutorials.mnist import input_data"
   ]
  },
  {
   "cell_type": "code",
   "execution_count": 7,
   "metadata": {},
   "outputs": [
    {
     "name": "stdout",
     "output_type": "stream",
     "text": [
      "Successfully downloaded train-images-idx3-ubyte.gz 9912422 bytes.\n",
      "Extracting ./train-images-idx3-ubyte.gz\n",
      "Successfully downloaded train-labels-idx1-ubyte.gz 28881 bytes.\n",
      "Extracting ./train-labels-idx1-ubyte.gz\n",
      "Successfully downloaded t10k-images-idx3-ubyte.gz 1648877 bytes.\n",
      "Extracting ./t10k-images-idx3-ubyte.gz\n",
      "Successfully downloaded t10k-labels-idx1-ubyte.gz 4542 bytes.\n",
      "Extracting ./t10k-labels-idx1-ubyte.gz\n"
     ]
    }
   ],
   "source": [
    "tf.reset_default_graph()\n",
    "\n",
    "learning_rate = 0.001\n",
    "n_inputs = 784\n",
    "n_classes = 10\n",
    "\n",
    "# import MNIST data\n",
    "mnist = input_data.read_data_sets('.', one_hot=True)\n",
    "\n",
    "# x, y\n",
    "features = tf.placeholder(tf.float32, [None, n_inputs])\n",
    "labels = tf.placeholder(tf.float32, [None, n_classes])\n",
    "\n",
    "# w, b\n",
    "weights = tf.Variable(tf.truncated_normal([n_inputs, n_classes]))\n",
    "bias = tf.Variable(tf.truncated_normal([n_classes]))\n",
    "\n",
    "# logits\n",
    "logits = tf.matmul(features, weights) + bias\n",
    "\n",
    "# loss optimizer\n",
    "cost = tf.reduce_mean(tf.nn.softmax_cross_entropy_with_logits(logits=logits, labels=labels))\n",
    "optimizer = tf.train.GradientDescentOptimizer(learning_rate=learning_rate).minimize(cost)\n",
    "\n",
    "# calculate accuracy\n",
    "correct_prediction = tf.equal(tf.argmax(logits, 1), tf.argmax(labels, 1))\n",
    "accuracy = tf.reduce_mean(tf.cast(correct_prediction, tf.float32))\n",
    "\n"
   ]
  },
  {
   "cell_type": "code",
   "execution_count": 9,
   "metadata": {},
   "outputs": [
    {
     "name": "stdout",
     "output_type": "stream",
     "text": [
      "Epoch 0   - Validation Accuracy: 0.12800000607967377\n",
      "Epoch 10  - Validation Accuracy: 0.362199991941452\n",
      "Epoch 20  - Validation Accuracy: 0.4927999973297119\n",
      "Epoch 30  - Validation Accuracy: 0.5727999806404114\n",
      "Epoch 40  - Validation Accuracy: 0.628600001335144\n",
      "Epoch 50  - Validation Accuracy: 0.6654000282287598\n",
      "Epoch 60  - Validation Accuracy: 0.6916000247001648\n",
      "Epoch 70  - Validation Accuracy: 0.7092000246047974\n",
      "Epoch 80  - Validation Accuracy: 0.723800003528595\n",
      "Epoch 90  - Validation Accuracy: 0.7355999946594238\n",
      "Trained model saved!!\n"
     ]
    }
   ],
   "source": [
    "import math\n",
    "\n",
    "# start train model\n",
    "save_file = './train_model.ckpt'\n",
    "batch_size = 128\n",
    "n_epoch = 100\n",
    "\n",
    "saver = tf.train.Saver()\n",
    "\n",
    "# start tf\n",
    "with tf.Session() as sess:\n",
    "    sess.run(tf.global_variables_initializer())\n",
    "    \n",
    "    for epoch in range(n_epoch):\n",
    "        total_batch = math.ceil(mnist.train.num_examples / batch_size)\n",
    "        \n",
    "        # loop over all batches\n",
    "        for i in range(total_batch):\n",
    "            batch_features, batch_labels = mnist.train.next_batch(batch_size)\n",
    "            sess.run(optimizer,\n",
    "                    feed_dict={features: batch_features,\n",
    "                              labels: batch_labels})\n",
    "            \n",
    "        # print status\n",
    "        if epoch % 10 == 0:\n",
    "            valid_accuracy = sess.run(accuracy,\n",
    "                                      feed_dict={features: mnist.validation.images,\n",
    "                                                 labels: mnist.validation.labels})\n",
    "            print('Epoch {:<3} - Validation Accuracy: {}'.format(epoch, valid_accuracy))\n",
    "                \n",
    "    \n",
    "    # save the model\n",
    "    saver.save(sess, save_file)\n",
    "    print('Trained model saved!!')\n",
    "    "
   ]
  },
  {
   "cell_type": "code",
   "execution_count": 10,
   "metadata": {},
   "outputs": [
    {
     "name": "stdout",
     "output_type": "stream",
     "text": [
      "Test Accuracy: 0.7494000196456909\n"
     ]
    }
   ],
   "source": [
    "# let's load saved model file again\n",
    "saver = tf.train.Saver()\n",
    "\n",
    "# Launch the graph\n",
    "with tf.Session() as sess:\n",
    "    saver.restore(sess, save_file)\n",
    "\n",
    "    test_accuracy = sess.run(\n",
    "        accuracy,\n",
    "        feed_dict={features: mnist.test.images, labels: mnist.test.labels})\n",
    "\n",
    "print('Test Accuracy: {}'.format(test_accuracy))"
   ]
  }
 ],
 "metadata": {
  "kernelspec": {
   "display_name": "Python 3",
   "language": "python",
   "name": "python3"
  },
  "language_info": {
   "codemirror_mode": {
    "name": "ipython",
    "version": 3
   },
   "file_extension": ".py",
   "mimetype": "text/x-python",
   "name": "python",
   "nbconvert_exporter": "python",
   "pygments_lexer": "ipython3",
   "version": "3.5.3"
  }
 },
 "nbformat": 4,
 "nbformat_minor": 2
}
