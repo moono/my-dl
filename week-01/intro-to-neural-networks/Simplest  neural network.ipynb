{
 "cells": [
  {
   "cell_type": "markdown",
   "metadata": {},
   "source": [
    "# Simple network exercise\n",
    "Below you'll use Numpy to calculate the output of a simple network with two input nodes and one output node with a sigmoid activation function. Things you'll need to do:\n",
    "\n",
    "Implement the sigmoid function.\n",
    "Calculate the output of the network.\n",
    "As a reminder, the sigmoid function is\n",
    "\n",
    "sigmoid(x)=1/(1+e^−x)\n",
    "\n",
    "For the exponential, you can use Numpy's exponential function, np.exp.\n",
    "\n",
    "And the output of the network is\n",
    "\n",
    "y=f(h)=sigmoid(∑wixi + b)\n",
    "\n",
    "For the weights sum, you can do a simple element-wise multiplication and sum, or use Numpy's dot product function."
   ]
  },
  {
   "cell_type": "code",
   "execution_count": 1,
   "metadata": {
    "collapsed": false
   },
   "outputs": [
    {
     "name": "stdout",
     "output_type": "stream",
     "text": [
      "Output:\n",
      "0.432907095035\n"
     ]
    }
   ],
   "source": [
    "import numpy as np\n",
    "\n",
    "def sigmoid(x):\n",
    "    # TODO: Implement sigmoid function\n",
    "    denorminator = 1.0 + np.exp(-x)\n",
    "    return (1.0 / denorminator)\n",
    "\n",
    "inputs = np.array([0.7, -0.3])\n",
    "weights = np.array([0.1, 0.8])\n",
    "bias = -0.1\n",
    "\n",
    "# TODO: Calculate the output\n",
    "h = np.dot(weights, inputs) + bias\n",
    "output = sigmoid(h)\n",
    "\n",
    "print('Output:')\n",
    "print(output)"
   ]
  },
  {
   "cell_type": "code",
   "execution_count": null,
   "metadata": {
    "collapsed": true
   },
   "outputs": [],
   "source": []
  }
 ],
 "metadata": {
  "anaconda-cloud": {},
  "kernelspec": {
   "display_name": "Python [conda env:intro-to-neural-networks]",
   "language": "python",
   "name": "conda-env-intro-to-neural-networks-py"
  },
  "language_info": {
   "codemirror_mode": {
    "name": "ipython",
    "version": 3
   },
   "file_extension": ".py",
   "mimetype": "text/x-python",
   "name": "python",
   "nbconvert_exporter": "python",
   "pygments_lexer": "ipython3",
   "version": "3.5.3"
  }
 },
 "nbformat": 4,
 "nbformat_minor": 2
}
