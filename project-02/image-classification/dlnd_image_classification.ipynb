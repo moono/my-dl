{
 "cells": [
  {
   "cell_type": "markdown",
   "metadata": {
    "collapsed": true,
    "deletable": true,
    "editable": true
   },
   "source": [
    "# Image Classification\n",
    "In this project, you'll classify images from the [CIFAR-10 dataset](https://www.cs.toronto.edu/~kriz/cifar.html).  The dataset consists of airplanes, dogs, cats, and other objects. You'll preprocess the images, then train a convolutional neural network on all the samples. The images need to be normalized and the labels need to be one-hot encoded.  You'll get to apply what you learned and build a convolutional, max pooling, dropout, and fully connected layers.  At the end, you'll get to see your neural network's predictions on the sample images.\n",
    "## Get the Data\n",
    "Run the following cell to download the [CIFAR-10 dataset for python](https://www.cs.toronto.edu/~kriz/cifar-10-python.tar.gz)."
   ]
  },
  {
   "cell_type": "code",
   "execution_count": 1,
   "metadata": {
    "collapsed": false,
    "deletable": true,
    "editable": true
   },
   "outputs": [
    {
     "name": "stdout",
     "output_type": "stream",
     "text": [
      "All files found!\n"
     ]
    }
   ],
   "source": [
    "\"\"\"\n",
    "DON'T MODIFY ANYTHING IN THIS CELL THAT IS BELOW THIS LINE\n",
    "\"\"\"\n",
    "from urllib.request import urlretrieve\n",
    "from os.path import isfile, isdir\n",
    "from tqdm import tqdm\n",
    "import problem_unittests as tests\n",
    "import tarfile\n",
    "\n",
    "cifar10_dataset_folder_path = 'cifar-10-batches-py'\n",
    "\n",
    "# Use Floyd's cifar-10 dataset if present\n",
    "floyd_cifar10_location = '/input/cifar-10/python.tar.gz'\n",
    "if isfile(floyd_cifar10_location):\n",
    "    tar_gz_path = floyd_cifar10_location\n",
    "else:\n",
    "    tar_gz_path = 'cifar-10-python.tar.gz'\n",
    "\n",
    "class DLProgress(tqdm):\n",
    "    last_block = 0\n",
    "\n",
    "    def hook(self, block_num=1, block_size=1, total_size=None):\n",
    "        self.total = total_size\n",
    "        self.update((block_num - self.last_block) * block_size)\n",
    "        self.last_block = block_num\n",
    "\n",
    "if not isfile(tar_gz_path):\n",
    "    with DLProgress(unit='B', unit_scale=True, miniters=1, desc='CIFAR-10 Dataset') as pbar:\n",
    "        urlretrieve(\n",
    "            'https://www.cs.toronto.edu/~kriz/cifar-10-python.tar.gz',\n",
    "            tar_gz_path,\n",
    "            pbar.hook)\n",
    "\n",
    "if not isdir(cifar10_dataset_folder_path):\n",
    "    with tarfile.open(tar_gz_path) as tar:\n",
    "        tar.extractall()\n",
    "        tar.close()\n",
    "\n",
    "\n",
    "tests.test_folder_path(cifar10_dataset_folder_path)"
   ]
  },
  {
   "cell_type": "markdown",
   "metadata": {
    "deletable": true,
    "editable": true
   },
   "source": [
    "## Explore the Data\n",
    "The dataset is broken into batches to prevent your machine from running out of memory.  The CIFAR-10 dataset consists of 5 batches, named `data_batch_1`, `data_batch_2`, etc.. Each batch contains the labels and images that are one of the following:\n",
    "* airplane\n",
    "* automobile\n",
    "* bird\n",
    "* cat\n",
    "* deer\n",
    "* dog\n",
    "* frog\n",
    "* horse\n",
    "* ship\n",
    "* truck\n",
    "\n",
    "Understanding a dataset is part of making predictions on the data.  Play around with the code cell below by changing the `batch_id` and `sample_id`. The `batch_id` is the id for a batch (1-5). The `sample_id` is the id for a image and label pair in the batch.\n",
    "\n",
    "Ask yourself \"What are all possible labels?\", \"What is the range of values for the image data?\", \"Are the labels in order or random?\".  Answers to questions like these will help you preprocess the data and end up with better predictions."
   ]
  },
  {
   "cell_type": "code",
   "execution_count": 2,
   "metadata": {
    "collapsed": false,
    "deletable": true,
    "editable": true
   },
   "outputs": [
    {
     "name": "stdout",
     "output_type": "stream",
     "text": [
      "\n",
      "Stats of batch 2:\n",
      "Samples: 10000\n",
      "Label Counts: {0: 984, 1: 1007, 2: 1010, 3: 995, 4: 1010, 5: 988, 6: 1008, 7: 1026, 8: 987, 9: 985}\n",
      "First 20 Labels: [1, 6, 6, 8, 8, 3, 4, 6, 0, 6, 0, 3, 6, 6, 5, 4, 8, 3, 2, 6]\n",
      "\n",
      "Example of Image 1:\n",
      "Image - Min Value: 2 Max Value: 247\n",
      "Image - Shape: (32, 32, 3)\n",
      "Label - Label Id: 6 Name: frog\n"
     ]
    },
    {
     "data": {
      "image/png": "[encoded data removed]",
      "text/plain": [
       "<matplotlib.figure.Figure at 0x7f3487d049b0>"
      ]
     },
     "metadata": {
      "image/png": {
       "height": 250,
       "width": 253
      }
     },
     "output_type": "display_data"
    }
   ],
   "source": [
    "%matplotlib inline\n",
    "%config InlineBackend.figure_format = 'retina'\n",
    "\n",
    "import helper\n",
    "import numpy as np\n",
    "\n",
    "# Explore the dataset\n",
    "batch_id = 2\n",
    "sample_id = 1\n",
    "helper.display_stats(cifar10_dataset_folder_path, batch_id, sample_id)"
   ]
  },
  {
   "cell_type": "markdown",
   "metadata": {
    "deletable": true,
    "editable": true
   },
   "source": [
    "## Implement Preprocess Functions\n",
    "### Normalize\n",
    "In the cell below, implement the `normalize` function to take in image data, `x`, and return it as a normalized Numpy array. The values should be in the range of 0 to 1, inclusive.  The return object should be the same shape as `x`."
   ]
  },
  {
   "cell_type": "code",
   "execution_count": 3,
   "metadata": {
    "collapsed": false,
    "deletable": true,
    "editable": true
   },
   "outputs": [
    {
     "name": "stdout",
     "output_type": "stream",
     "text": [
      "Tests Passed\n"
     ]
    }
   ],
   "source": [
    "def normalize(x):\n",
    "    \"\"\"\n",
    "    Normalize a list of sample image data in the range of 0 to 1\n",
    "    : x: List of image data.  The image shape is (32, 32, 3)\n",
    "    : return: Numpy array of normalize data\n",
    "    \"\"\"\n",
    "    # TODO: Implement Function\n",
    "    normalized = x * (1.0/255.0)\n",
    "    return normalized\n",
    "\n",
    "\n",
    "\"\"\"\n",
    "DON'T MODIFY ANYTHING IN THIS CELL THAT IS BELOW THIS LINE\n",
    "\"\"\"\n",
    "tests.test_normalize(normalize)"
   ]
  },
  {
   "cell_type": "markdown",
   "metadata": {
    "deletable": true,
    "editable": true
   },
   "source": [
    "### One-hot encode\n",
    "Just like the previous code cell, you'll be implementing a function for preprocessing.  This time, you'll implement the `one_hot_encode` function. The input, `x`, are a list of labels.  Implement the function to return the list of labels as One-Hot encoded Numpy array.  The possible values for labels are 0 to 9. The one-hot encoding function should return the same encoding for each value between each call to `one_hot_encode`.  Make sure to save the map of encodings outside the function.\n",
    "\n",
    "Hint: Don't reinvent the wheel."
   ]
  },
  {
   "cell_type": "code",
   "execution_count": 4,
   "metadata": {
    "collapsed": false,
    "deletable": true,
    "editable": true
   },
   "outputs": [
    {
     "name": "stdout",
     "output_type": "stream",
     "text": [
      "Tests Passed\n"
     ]
    }
   ],
   "source": [
    "def one_hot_encode(x):\n",
    "    \"\"\"\n",
    "    One hot encode a list of sample labels. Return a one-hot encoded vector for each label.\n",
    "    : x: List of sample Labels\n",
    "    : return: Numpy array of one-hot encoded labels\n",
    "    \"\"\"\n",
    "    # TODO: Implement Function\n",
    "    number_of_labels = 10\n",
    "    data_length = len(x)\n",
    "    one_hot_encoded = np.zeros((data_length, number_of_labels), dtype=np.int32)\n",
    "    \n",
    "    for i in range(data_length):\n",
    "        index = x[i]\n",
    "        one_hot_encoded[i][index] = 1\n",
    "    return one_hot_encoded\n",
    "\n",
    "\n",
    "\"\"\"\n",
    "DON'T MODIFY ANYTHING IN THIS CELL THAT IS BELOW THIS LINE\n",
    "\"\"\"\n",
    "tests.test_one_hot_encode(one_hot_encode)"
   ]
  },
  {
   "cell_type": "markdown",
   "metadata": {
    "deletable": true,
    "editable": true
   },
   "source": [
    "### Randomize Data\n",
    "As you saw from exploring the data above, the order of the samples are randomized.  It doesn't hurt to randomize it again, but you don't need to for this dataset."
   ]
  },
  {
   "cell_type": "markdown",
   "metadata": {
    "deletable": true,
    "editable": true
   },
   "source": [
    "## Preprocess all the data and save it\n",
    "Running the code cell below will preprocess all the CIFAR-10 data and save it to file. The code below also uses 10% of the training data for validation."
   ]
  },
  {
   "cell_type": "code",
   "execution_count": 5,
   "metadata": {
    "collapsed": false,
    "deletable": true,
    "editable": true
   },
   "outputs": [],
   "source": [
    "\"\"\"\n",
    "DON'T MODIFY ANYTHING IN THIS CELL\n",
    "\"\"\"\n",
    "# Preprocess Training, Validation, and Testing Data\n",
    "helper.preprocess_and_save_data(cifar10_dataset_folder_path, normalize, one_hot_encode)"
   ]
  },
  {
   "cell_type": "markdown",
   "metadata": {
    "deletable": true,
    "editable": true
   },
   "source": [
    "# Check Point\n",
    "This is your first checkpoint.  If you ever decide to come back to this notebook or have to restart the notebook, you can start from here.  The preprocessed data has been saved to disk."
   ]
  },
  {
   "cell_type": "code",
   "execution_count": 6,
   "metadata": {
    "collapsed": true,
    "deletable": true,
    "editable": true
   },
   "outputs": [],
   "source": [
    "\"\"\"\n",
    "DON'T MODIFY ANYTHING IN THIS CELL\n",
    "\"\"\"\n",
    "import pickle\n",
    "import problem_unittests as tests\n",
    "import helper\n",
    "\n",
    "# Load the Preprocessed Validation data\n",
    "valid_features, valid_labels = pickle.load(open('preprocess_validation.p', mode='rb'))"
   ]
  },
  {
   "cell_type": "markdown",
   "metadata": {
    "deletable": true,
    "editable": true
   },
   "source": [
    "## Build the network\n",
    "For the neural network, you'll build each layer into a function.  Most of the code you've seen has been outside of functions. To test your code more thoroughly, we require that you put each layer in a function.  This allows us to give you better feedback and test for simple mistakes using our unittests before you submit your project.\n",
    "\n",
    ">**Note:** If you're finding it hard to dedicate enough time for this course each week, we've provided a small shortcut to this part of the project. In the next couple of problems, you'll have the option to use classes from the [TensorFlow Layers](https://www.tensorflow.org/api_docs/python/tf/layers) or [TensorFlow Layers (contrib)](https://www.tensorflow.org/api_guides/python/contrib.layers) packages to build each layer, except the layers you build in the \"Convolutional and Max Pooling Layer\" section.  TF Layers is similar to Keras's and TFLearn's abstraction to layers, so it's easy to pickup.\n",
    "\n",
    ">However, if you would like to get the most out of this course, try to solve all the problems _without_ using anything from the TF Layers packages. You **can** still use classes from other packages that happen to have the same name as ones you find in TF Layers! For example, instead of using the TF Layers version of the `conv2d` class, [tf.layers.conv2d](https://www.tensorflow.org/api_docs/python/tf/layers/conv2d), you would want to use the TF Neural Network version of `conv2d`, [tf.nn.conv2d](https://www.tensorflow.org/api_docs/python/tf/nn/conv2d). \n",
    "\n",
    "Let's begin!\n",
    "\n",
    "### Input\n",
    "The neural network needs to read the image data, one-hot encoded labels, and dropout keep probability. Implement the following functions\n",
    "* Implement `neural_net_image_input`\n",
    " * Return a [TF Placeholder](https://www.tensorflow.org/api_docs/python/tf/placeholder)\n",
    " * Set the shape using `image_shape` with batch size set to `None`.\n",
    " * Name the TensorFlow placeholder \"x\" using the TensorFlow `name` parameter in the [TF Placeholder](https://www.tensorflow.org/api_docs/python/tf/placeholder).\n",
    "* Implement `neural_net_label_input`\n",
    " * Return a [TF Placeholder](https://www.tensorflow.org/api_docs/python/tf/placeholder)\n",
    " * Set the shape using `n_classes` with batch size set to `None`.\n",
    " * Name the TensorFlow placeholder \"y\" using the TensorFlow `name` parameter in the [TF Placeholder](https://www.tensorflow.org/api_docs/python/tf/placeholder).\n",
    "* Implement `neural_net_keep_prob_input`\n",
    " * Return a [TF Placeholder](https://www.tensorflow.org/api_docs/python/tf/placeholder) for dropout keep probability.\n",
    " * Name the TensorFlow placeholder \"keep_prob\" using the TensorFlow `name` parameter in the [TF Placeholder](https://www.tensorflow.org/api_docs/python/tf/placeholder).\n",
    "\n",
    "These names will be used at the end of the project to load your saved model.\n",
    "\n",
    "Note: `None` for shapes in TensorFlow allow for a dynamic size."
   ]
  },
  {
   "cell_type": "code",
   "execution_count": 7,
   "metadata": {
    "collapsed": false,
    "deletable": true,
    "editable": true
   },
   "outputs": [
    {
     "name": "stdout",
     "output_type": "stream",
     "text": [
      "Image Input Tests Passed.\n",
      "Label Input Tests Passed.\n",
      "Keep Prob Tests Passed.\n"
     ]
    }
   ],
   "source": [
    "import tensorflow as tf\n",
    "\n",
    "def neural_net_image_input(image_shape):\n",
    "    \"\"\"\n",
    "    Return a Tensor for a batch of image input\n",
    "    : image_shape: Shape of the images\n",
    "    : return: Tensor for image input.\n",
    "    \"\"\"\n",
    "    # TODO: Implement Function\n",
    "    shape_to_tf = [None]\n",
    "    shape_to_tf.extend(list(image_shape))\n",
    "    return tf.placeholder(tf.float32, shape=shape_to_tf, name='x')\n",
    "\n",
    "\n",
    "def neural_net_label_input(n_classes):\n",
    "    \"\"\"\n",
    "    Return a Tensor for a batch of label input\n",
    "    : n_classes: Number of classes\n",
    "    : return: Tensor for label input.\n",
    "    \"\"\"\n",
    "    # TODO: Implement Function\n",
    "    shape_to_tf = [None, n_classes]\n",
    "    return tf.placeholder(tf.float32, shape=shape_to_tf, name='y')\n",
    "\n",
    "\n",
    "def neural_net_keep_prob_input():\n",
    "    \"\"\"\n",
    "    Return a Tensor for keep probability\n",
    "    : return: Tensor for keep probability.\n",
    "    \"\"\"\n",
    "    # TODO: Implement Function\n",
    "    return tf.placeholder(tf.float32, name='keep_prob')\n",
    "\n",
    "\n",
    "\"\"\"\n",
    "DON'T MODIFY ANYTHING IN THIS CELL THAT IS BELOW THIS LINE\n",
    "\"\"\"\n",
    "tf.reset_default_graph()\n",
    "tests.test_nn_image_inputs(neural_net_image_input)\n",
    "tests.test_nn_label_inputs(neural_net_label_input)\n",
    "tests.test_nn_keep_prob_inputs(neural_net_keep_prob_input)"
   ]
  },
  {
   "cell_type": "markdown",
   "metadata": {
    "deletable": true,
    "editable": true
   },
   "source": [
    "### Convolution and Max Pooling Layer\n",
    "Convolution layers have a lot of success with images. For this code cell, you should implement the function `conv2d_maxpool` to apply convolution then max pooling:\n",
    "* Create the weight and bias using `conv_ksize`, `conv_num_outputs` and the shape of `x_tensor`.\n",
    "* Apply a convolution to `x_tensor` using weight and `conv_strides`.\n",
    " * We recommend you use same padding, but you're welcome to use any padding.\n",
    "* Add bias\n",
    "* Add a nonlinear activation to the convolution.\n",
    "* Apply Max Pooling using `pool_ksize` and `pool_strides`.\n",
    " * We recommend you use same padding, but you're welcome to use any padding.\n",
    "\n",
    "**Note:** You **can't** use [TensorFlow Layers](https://www.tensorflow.org/api_docs/python/tf/layers) or [TensorFlow Layers (contrib)](https://www.tensorflow.org/api_guides/python/contrib.layers) for **this** layer, but you can still use TensorFlow's [Neural Network](https://www.tensorflow.org/api_docs/python/tf/nn) package. You may still use the shortcut option for all the **other** layers."
   ]
  },
  {
   "cell_type": "code",
   "execution_count": 9,
   "metadata": {
    "collapsed": false,
    "deletable": true,
    "editable": true
   },
   "outputs": [
    {
     "name": "stdout",
     "output_type": "stream",
     "text": [
      "Tests Passed\n"
     ]
    }
   ],
   "source": [
    "def conv2d_maxpool(x_tensor, conv_num_outputs, conv_ksize, conv_strides, pool_ksize, pool_strides):\n",
    "    \"\"\"\n",
    "    Apply convolution then max pooling to x_tensor\n",
    "    :param x_tensor: TensorFlow Tensor\n",
    "    :param conv_num_outputs: Number of outputs for the convolutional layer\n",
    "    :param conv_ksize: kernal size 2-D Tuple for the convolutional layer\n",
    "    :param conv_strides: Stride 2-D Tuple for convolution\n",
    "    :param pool_ksize: kernal size 2-D Tuple for pool\n",
    "    :param pool_strides: Stride 2-D Tuple for pool\n",
    "    : return: A tensor that represents convolution and max pooling of x_tensor\n",
    "    \"\"\"\n",
    "    # get input image depth\n",
    "    input_shape = x_tensor.get_shape().as_list()\n",
    "    \n",
    "    # create weight and bias\n",
    "    weight = tf.Variable(tf.truncated_normal(shape=[*conv_ksize, input_shape[-1], conv_num_outputs], stddev=0.1))\n",
    "    bias = tf.Variable(tf.zeros(conv_num_outputs))\n",
    "    \n",
    "    # apply convolution\n",
    "    conv_layer = tf.nn.conv2d(x_tensor, weight, strides=[1, *conv_strides, 1], padding='SAME')\n",
    "    \n",
    "    # add bias\n",
    "    conv_layer = tf.nn.bias_add(conv_layer, bias)\n",
    "    \n",
    "    # add nonlinear activation function\n",
    "    conv_layer = tf.nn.relu(conv_layer)\n",
    "    \n",
    "    # apply max_pooling\n",
    "    conv_layer = tf.nn.max_pool(conv_layer, ksize=[1, *pool_ksize, 1], strides=[1, *pool_strides, 1], padding='SAME')\n",
    "    return conv_layer \n",
    "\n",
    "\n",
    "\"\"\"\n",
    "DON'T MODIFY ANYTHING IN THIS CELL THAT IS BELOW THIS LINE\n",
    "\"\"\"\n",
    "tests.test_con_pool(conv2d_maxpool)"
   ]
  },
  {
   "cell_type": "markdown",
   "metadata": {
    "deletable": true,
    "editable": true
   },
   "source": [
    "### Flatten Layer\n",
    "Implement the `flatten` function to change the dimension of `x_tensor` from a 4-D tensor to a 2-D tensor.  The output should be the shape (*Batch Size*, *Flattened Image Size*). Shortcut option: you can use classes from the [TensorFlow Layers](https://www.tensorflow.org/api_docs/python/tf/layers) or [TensorFlow Layers (contrib)](https://www.tensorflow.org/api_guides/python/contrib.layers) packages for this layer. For more of a challenge, only use other TensorFlow packages."
   ]
  },
  {
   "cell_type": "code",
   "execution_count": 10,
   "metadata": {
    "collapsed": false,
    "deletable": true,
    "editable": true
   },
   "outputs": [
    {
     "name": "stdout",
     "output_type": "stream",
     "text": [
      "Tests Passed\n"
     ]
    }
   ],
   "source": [
    "def flatten(x_tensor):\n",
    "    \"\"\"\n",
    "    Flatten x_tensor to (Batch Size, Flattened Image Size)\n",
    "    : x_tensor: A tensor of size (Batch Size, ...), where ... are the image dimensions.\n",
    "    : return: A tensor of size (Batch Size, Flattened Image Size).\n",
    "    \"\"\"\n",
    "    # TODO: Implement Function\n",
    "    input_shape = x_tensor.get_shape().as_list()\n",
    "    flatten_size = input_shape[1] * input_shape[2] * input_shape[3]\n",
    "    \n",
    "    input_flat = tf.reshape(x_tensor, [-1, flatten_size])\n",
    "    return input_flat\n",
    "\n",
    "\n",
    "\"\"\"\n",
    "DON'T MODIFY ANYTHING IN THIS CELL THAT IS BELOW THIS LINE\n",
    "\"\"\"\n",
    "tests.test_flatten(flatten)"
   ]
  },
  {
   "cell_type": "markdown",
   "metadata": {
    "deletable": true,
    "editable": true
   },
   "source": [
    "### Fully-Connected Layer\n",
    "Implement the `fully_conn` function to apply a fully connected layer to `x_tensor` with the shape (*Batch Size*, *num_outputs*). Shortcut option: you can use classes from the [TensorFlow Layers](https://www.tensorflow.org/api_docs/python/tf/layers) or [TensorFlow Layers (contrib)](https://www.tensorflow.org/api_guides/python/contrib.layers) packages for this layer. For more of a challenge, only use other TensorFlow packages."
   ]
  },
  {
   "cell_type": "code",
   "execution_count": 11,
   "metadata": {
    "collapsed": false,
    "deletable": true,
    "editable": true
   },
   "outputs": [
    {
     "name": "stdout",
     "output_type": "stream",
     "text": [
      "Tests Passed\n"
     ]
    }
   ],
   "source": [
    "def fully_conn(x_tensor, num_outputs):\n",
    "    \"\"\"\n",
    "    Apply a fully connected layer to x_tensor using weight and bias\n",
    "    : x_tensor: A 2-D tensor where the first dimension is batch size.\n",
    "    : num_outputs: The number of output that the new tensor should be.\n",
    "    : return: A 2-D tensor where the second dimension is num_outputs.\n",
    "    \"\"\"\n",
    "    input_shape = x_tensor.get_shape().as_list()\n",
    "    \n",
    "    # create weight and bias\n",
    "    weights = tf.Variable(tf.truncated_normal(shape=[input_shape[-1], num_outputs], stddev=0.1))\n",
    "    bias = tf.Variable(tf.zeros(num_outputs))\n",
    "    \n",
    "    # compute fully connected layer\n",
    "    fc = tf.add(tf.matmul(x_tensor, weights), bias)\n",
    "    fc = tf.nn.relu(fc)\n",
    "    return fc\n",
    "\n",
    "\n",
    "\"\"\"\n",
    "DON'T MODIFY ANYTHING IN THIS CELL THAT IS BELOW THIS LINE\n",
    "\"\"\"\n",
    "tests.test_fully_conn(fully_conn)"
   ]
  },
  {
   "cell_type": "markdown",
   "metadata": {
    "deletable": true,
    "editable": true
   },
   "source": [
    "### Output Layer\n",
    "Implement the `output` function to apply a fully connected layer to `x_tensor` with the shape (*Batch Size*, *num_outputs*). Shortcut option: you can use classes from the [TensorFlow Layers](https://www.tensorflow.org/api_docs/python/tf/layers) or [TensorFlow Layers (contrib)](https://www.tensorflow.org/api_guides/python/contrib.layers) packages for this layer. For more of a challenge, only use other TensorFlow packages.\n",
    "\n",
    "**Note:** Activation, softmax, or cross entropy should **not** be applied to this."
   ]
  },
  {
   "cell_type": "code",
   "execution_count": 12,
   "metadata": {
    "collapsed": false,
    "deletable": true,
    "editable": true
   },
   "outputs": [
    {
     "name": "stdout",
     "output_type": "stream",
     "text": [
      "Tests Passed\n"
     ]
    }
   ],
   "source": [
    "def output(x_tensor, num_outputs):\n",
    "    \"\"\"\n",
    "    Apply a output layer to x_tensor using weight and bias\n",
    "    : x_tensor: A 2-D tensor where the first dimension is batch size.\n",
    "    : num_outputs: The number of output that the new tensor should be.\n",
    "    : return: A 2-D tensor where the second dimension is num_outputs.\n",
    "    \"\"\"\n",
    "    input_shape = x_tensor.get_shape().as_list()\n",
    "    \n",
    "    # create weight and bias\n",
    "    weights = tf.Variable(tf.truncated_normal(shape=[input_shape[-1], num_outputs], stddev=0.1))\n",
    "    bias = tf.Variable(tf.zeros(num_outputs))\n",
    "    \n",
    "    # compute output layer\n",
    "    output = tf.add(tf.matmul(x_tensor, weights), bias)\n",
    "    return output\n",
    "\n",
    "\n",
    "\"\"\"\n",
    "DON'T MODIFY ANYTHING IN THIS CELL THAT IS BELOW THIS LINE\n",
    "\"\"\"\n",
    "tests.test_output(output)"
   ]
  },
  {
   "cell_type": "markdown",
   "metadata": {
    "deletable": true,
    "editable": true
   },
   "source": [
    "### Create Convolutional Model\n",
    "Implement the function `conv_net` to create a convolutional neural network model. The function takes in a batch of images, `x`, and outputs logits.  Use the layers you created above to create this model:\n",
    "\n",
    "* Apply 1, 2, or 3 Convolution and Max Pool layers\n",
    "* Apply a Flatten Layer\n",
    "* Apply 1, 2, or 3 Fully Connected Layers\n",
    "* Apply an Output Layer\n",
    "* Return the output\n",
    "* Apply [TensorFlow's Dropout](https://www.tensorflow.org/api_docs/python/tf/nn/dropout) to one or more layers in the model using `keep_prob`. "
   ]
  },
  {
   "cell_type": "code",
   "execution_count": 13,
   "metadata": {
    "collapsed": false,
    "deletable": true,
    "editable": true
   },
   "outputs": [
    {
     "name": "stdout",
     "output_type": "stream",
     "text": [
      "Neural Network Built!\n"
     ]
    }
   ],
   "source": [
    "def conv_net(x, keep_prob):\n",
    "    \"\"\"\n",
    "    Create a convolutional neural network model\n",
    "    : x: Placeholder tensor that holds image data.\n",
    "    : keep_prob: Placeholder tensor that hold dropout keep probability.\n",
    "    : return: Tensor that represents logits\n",
    "    \"\"\"\n",
    "    # prepare variables\n",
    "    filter1_ksize = (5,5)\n",
    "    filter1_depth = 16\n",
    "    filter2_ksize = (5,5)\n",
    "    filter2_depth = 32\n",
    "    conv_strides = (2,2)\n",
    "    pool_ksize = (2,2)\n",
    "    pool_strides = (2,2)\n",
    "    fc_size = 128\n",
    "    number_of_class = 10\n",
    "    \n",
    "    # TODO: Apply 1, 2, or 3 Convolution and Max Pool layers\n",
    "    #    Play around with different number of outputs, kernel size and stride\n",
    "    # Function Definition from Above:\n",
    "    #    conv2d_maxpool(x_tensor, conv_num_outputs, conv_ksize, conv_strides, pool_ksize, pool_strides)\n",
    "    \n",
    "    conv_layer = conv2d_maxpool(x, filter1_depth, filter1_ksize, conv_strides, pool_ksize, pool_strides)\n",
    "    conv_layer = conv2d_maxpool(conv_layer, filter2_depth, filter2_ksize, conv_strides, pool_ksize, pool_strides)\n",
    "\n",
    "    # TODO: Apply a Flatten Layer\n",
    "    # Function Definition from Above:\n",
    "    #   flatten(x_tensor)\n",
    "    flat_layer = flatten(conv_layer)\n",
    "\n",
    "    # TODO: Apply 1, 2, or 3 Fully Connected Layers\n",
    "    #    Play around with different number of outputs\n",
    "    # Function Definition from Above:\n",
    "    #   fully_conn(x_tensor, num_outputs)\n",
    "    fc = fully_conn(flat_layer, fc_size)\n",
    "    fc = fully_conn(fc, fc_size)\n",
    "    \n",
    "    # TODO: Apply an Output Layer\n",
    "    #    Set this to the number of classes\n",
    "    # Function Definition from Above:\n",
    "    #   output(x_tensor, num_outputs)\n",
    "    logit = output(fc, number_of_class)\n",
    "    \n",
    "    # TODO: return output\n",
    "    return logit\n",
    "\n",
    "\n",
    "\"\"\"\n",
    "DON'T MODIFY ANYTHING IN THIS CELL THAT IS BELOW THIS LINE\n",
    "\"\"\"\n",
    "\n",
    "##############################\n",
    "## Build the Neural Network ##\n",
    "##############################\n",
    "\n",
    "# Remove previous weights, bias, inputs, etc..\n",
    "tf.reset_default_graph()\n",
    "\n",
    "# Inputs\n",
    "x = neural_net_image_input((32, 32, 3))\n",
    "y = neural_net_label_input(10)\n",
    "keep_prob = neural_net_keep_prob_input()\n",
    "\n",
    "# Model\n",
    "logits = conv_net(x, keep_prob)\n",
    "\n",
    "# Name logits Tensor, so that is can be loaded from disk after training\n",
    "logits = tf.identity(logits, name='logits')\n",
    "\n",
    "# Loss and Optimizer\n",
    "cost = tf.reduce_mean(tf.nn.softmax_cross_entropy_with_logits(logits=logits, labels=y))\n",
    "optimizer = tf.train.AdamOptimizer().minimize(cost)\n",
    "\n",
    "# Accuracy\n",
    "correct_pred = tf.equal(tf.argmax(logits, 1), tf.argmax(y, 1))\n",
    "accuracy = tf.reduce_mean(tf.cast(correct_pred, tf.float32), name='accuracy')\n",
    "\n",
    "tests.test_conv_net(conv_net)"
   ]
  },
  {
   "cell_type": "markdown",
   "metadata": {
    "deletable": true,
    "editable": true
   },
   "source": [
    "## Train the Neural Network\n",
    "### Single Optimization\n",
    "Implement the function `train_neural_network` to do a single optimization.  The optimization should use `optimizer` to optimize in `session` with a `feed_dict` of the following:\n",
    "* `x` for image input\n",
    "* `y` for labels\n",
    "* `keep_prob` for keep probability for dropout\n",
    "\n",
    "This function will be called for each batch, so `tf.global_variables_initializer()` has already been called.\n",
    "\n",
    "Note: Nothing needs to be returned. This function is only optimizing the neural network."
   ]
  },
  {
   "cell_type": "code",
   "execution_count": 14,
   "metadata": {
    "collapsed": false,
    "deletable": true,
    "editable": true
   },
   "outputs": [
    {
     "name": "stdout",
     "output_type": "stream",
     "text": [
      "Tests Passed\n"
     ]
    }
   ],
   "source": [
    "def train_neural_network(session, optimizer, keep_probability, feature_batch, label_batch):\n",
    "    \"\"\"\n",
    "    Optimize the session on a batch of images and labels\n",
    "    : session: Current TensorFlow session\n",
    "    : optimizer: TensorFlow optimizer function\n",
    "    : keep_probability: keep probability\n",
    "    : feature_batch: Batch of Numpy image data\n",
    "    : label_batch: Batch of Numpy label data\n",
    "    \"\"\"\n",
    "    session.run(optimizer, feed_dict={x: feature_batch, y: label_batch, keep_prob: keep_probability})\n",
    "\n",
    "\n",
    "\"\"\"\n",
    "DON'T MODIFY ANYTHING IN THIS CELL THAT IS BELOW THIS LINE\n",
    "\"\"\"\n",
    "tests.test_train_nn(train_neural_network)"
   ]
  },
  {
   "cell_type": "markdown",
   "metadata": {
    "deletable": true,
    "editable": true
   },
   "source": [
    "### Show Stats\n",
    "Implement the function `print_stats` to print loss and validation accuracy.  Use the global variables `valid_features` and `valid_labels` to calculate validation accuracy.  Use a keep probability of `1.0` to calculate the loss and validation accuracy."
   ]
  },
  {
   "cell_type": "code",
   "execution_count": 15,
   "metadata": {
    "collapsed": false,
    "deletable": true,
    "editable": true
   },
   "outputs": [],
   "source": [
    "def print_stats(session, feature_batch, label_batch, cost, accuracy):\n",
    "    \"\"\"\n",
    "    Print information about loss and validation accuracy\n",
    "    : session: Current TensorFlow session\n",
    "    : feature_batch: Batch of Numpy image data\n",
    "    : label_batch: Batch of Numpy label data\n",
    "    : cost: TensorFlow cost function\n",
    "    : accuracy: TensorFlow accuracy function\n",
    "    \"\"\"\n",
    "    loss = session.run(cost, feed_dict={x: feature_batch, y: label_batch, keep_prob: 1.0})\n",
    "    acc = session.run(accuracy, feed_dict={x: feature_batch, y:label_batch, keep_prob:1.0})\n",
    "    print(\"loss=\", \"{:.5f}\".format(loss), \"accuracy=\", \"{:.5f}\".format(acc))"
   ]
  },
  {
   "cell_type": "markdown",
   "metadata": {
    "deletable": true,
    "editable": true
   },
   "source": [
    "### Hyperparameters\n",
    "Tune the following parameters:\n",
    "* Set `epochs` to the number of iterations until the network stops learning or start overfitting\n",
    "* Set `batch_size` to the highest number that your machine has memory for.  Most people set them to common sizes of memory:\n",
    " * 64\n",
    " * 128\n",
    " * 256\n",
    " * ...\n",
    "* Set `keep_probability` to the probability of keeping a node using dropout"
   ]
  },
  {
   "cell_type": "code",
   "execution_count": 16,
   "metadata": {
    "collapsed": true,
    "deletable": true,
    "editable": true
   },
   "outputs": [],
   "source": [
    "# TODO: Tune Parameters\n",
    "epochs = 50\n",
    "batch_size = 256\n",
    "keep_probability = 0.5"
   ]
  },
  {
   "cell_type": "markdown",
   "metadata": {
    "deletable": true,
    "editable": true
   },
   "source": [
    "### Train on a Single CIFAR-10 Batch\n",
    "Instead of training the neural network on all the CIFAR-10 batches of data, let's use a single batch. This should save time while you iterate on the model to get a better accuracy.  Once the final validation accuracy is 50% or greater, run the model on all the data in the next section."
   ]
  },
  {
   "cell_type": "code",
   "execution_count": 17,
   "metadata": {
    "collapsed": false,
    "deletable": true,
    "editable": true
   },
   "outputs": [
    {
     "name": "stdout",
     "output_type": "stream",
     "text": [
      "Checking the Training on a Single Batch...\n",
      "Epoch  1, CIFAR-10 Batch 1:  loss= 2.14542 accuracy= 0.22500\n",
      "Epoch  2, CIFAR-10 Batch 1:  loss= 2.00673 accuracy= 0.27500\n",
      "Epoch  3, CIFAR-10 Batch 1:  loss= 1.87337 accuracy= 0.35000\n",
      "Epoch  4, CIFAR-10 Batch 1:  loss= 1.75124 accuracy= 0.45000\n",
      "Epoch  5, CIFAR-10 Batch 1:  loss= 1.65231 accuracy= 0.45000\n",
      "Epoch  6, CIFAR-10 Batch 1:  loss= 1.55741 accuracy= 0.45000\n",
      "Epoch  7, CIFAR-10 Batch 1:  loss= 1.45788 accuracy= 0.45000\n",
      "Epoch  8, CIFAR-10 Batch 1:  loss= 1.34783 accuracy= 0.55000\n",
      "Epoch  9, CIFAR-10 Batch 1:  loss= 1.25269 accuracy= 0.65000\n",
      "Epoch 10, CIFAR-10 Batch 1:  loss= 1.16713 accuracy= 0.70000\n",
      "Epoch 11, CIFAR-10 Batch 1:  loss= 1.09787 accuracy= 0.67500\n",
      "Epoch 12, CIFAR-10 Batch 1:  loss= 1.02925 accuracy= 0.67500\n",
      "Epoch 13, CIFAR-10 Batch 1:  loss= 0.95028 accuracy= 0.70000\n",
      "Epoch 14, CIFAR-10 Batch 1:  loss= 0.89462 accuracy= 0.67500\n",
      "Epoch 15, CIFAR-10 Batch 1:  loss= 0.83507 accuracy= 0.75000\n",
      "Epoch 16, CIFAR-10 Batch 1:  loss= 0.81216 accuracy= 0.75000\n",
      "Epoch 17, CIFAR-10 Batch 1:  loss= 0.75602 accuracy= 0.77500\n",
      "Epoch 18, CIFAR-10 Batch 1:  loss= 0.70880 accuracy= 0.80000\n",
      "Epoch 19, CIFAR-10 Batch 1:  loss= 0.67653 accuracy= 0.77500\n",
      "Epoch 20, CIFAR-10 Batch 1:  loss= 0.65020 accuracy= 0.82500\n",
      "Epoch 21, CIFAR-10 Batch 1:  loss= 0.60416 accuracy= 0.85000\n",
      "Epoch 22, CIFAR-10 Batch 1:  loss= 0.56745 accuracy= 0.85000\n",
      "Epoch 23, CIFAR-10 Batch 1:  loss= 0.53327 accuracy= 0.85000\n",
      "Epoch 24, CIFAR-10 Batch 1:  loss= 0.50416 accuracy= 0.85000\n",
      "Epoch 25, CIFAR-10 Batch 1:  loss= 0.47527 accuracy= 0.90000\n",
      "Epoch 26, CIFAR-10 Batch 1:  loss= 0.44953 accuracy= 0.90000\n",
      "Epoch 27, CIFAR-10 Batch 1:  loss= 0.42221 accuracy= 0.90000\n",
      "Epoch 28, CIFAR-10 Batch 1:  loss= 0.39475 accuracy= 0.90000\n",
      "Epoch 29, CIFAR-10 Batch 1:  loss= 0.37507 accuracy= 0.92500\n",
      "Epoch 30, CIFAR-10 Batch 1:  loss= 0.35446 accuracy= 0.92500\n",
      "Epoch 31, CIFAR-10 Batch 1:  loss= 0.33390 accuracy= 0.92500\n",
      "Epoch 32, CIFAR-10 Batch 1:  loss= 0.32611 accuracy= 0.92500\n",
      "Epoch 33, CIFAR-10 Batch 1:  loss= 0.33868 accuracy= 0.92500\n",
      "Epoch 34, CIFAR-10 Batch 1:  loss= 0.35271 accuracy= 0.92500\n",
      "Epoch 35, CIFAR-10 Batch 1:  loss= 0.31614 accuracy= 0.95000\n",
      "Epoch 36, CIFAR-10 Batch 1:  loss= 0.34752 accuracy= 0.95000\n",
      "Epoch 37, CIFAR-10 Batch 1:  loss= 0.30502 accuracy= 0.97500\n",
      "Epoch 38, CIFAR-10 Batch 1:  loss= 0.28233 accuracy= 1.00000\n",
      "Epoch 39, CIFAR-10 Batch 1:  loss= 0.24969 accuracy= 1.00000\n",
      "Epoch 40, CIFAR-10 Batch 1:  loss= 0.23740 accuracy= 1.00000\n",
      "Epoch 41, CIFAR-10 Batch 1:  loss= 0.22029 accuracy= 1.00000\n",
      "Epoch 42, CIFAR-10 Batch 1:  loss= 0.20495 accuracy= 1.00000\n",
      "Epoch 43, CIFAR-10 Batch 1:  loss= 0.19420 accuracy= 1.00000\n",
      "Epoch 44, CIFAR-10 Batch 1:  loss= 0.18706 accuracy= 1.00000\n",
      "Epoch 45, CIFAR-10 Batch 1:  loss= 0.17855 accuracy= 1.00000\n",
      "Epoch 46, CIFAR-10 Batch 1:  loss= 0.18052 accuracy= 1.00000\n",
      "Epoch 47, CIFAR-10 Batch 1:  loss= 0.17380 accuracy= 1.00000\n",
      "Epoch 48, CIFAR-10 Batch 1:  loss= 0.16466 accuracy= 1.00000\n",
      "Epoch 49, CIFAR-10 Batch 1:  loss= 0.14766 accuracy= 1.00000\n",
      "Epoch 50, CIFAR-10 Batch 1:  loss= 0.12920 accuracy= 1.00000\n"
     ]
    }
   ],
   "source": [
    "\"\"\"\n",
    "DON'T MODIFY ANYTHING IN THIS CELL\n",
    "\"\"\"\n",
    "print('Checking the Training on a Single Batch...')\n",
    "with tf.Session() as sess:\n",
    "    # Initializing the variables\n",
    "    sess.run(tf.global_variables_initializer())\n",
    "    \n",
    "    # Training cycle\n",
    "    for epoch in range(epochs):\n",
    "        batch_i = 1\n",
    "        for batch_features, batch_labels in helper.load_preprocess_training_batch(batch_i, batch_size):\n",
    "            train_neural_network(sess, optimizer, keep_probability, batch_features, batch_labels)\n",
    "        print('Epoch {:>2}, CIFAR-10 Batch {}:  '.format(epoch + 1, batch_i), end='')\n",
    "        print_stats(sess, batch_features, batch_labels, cost, accuracy)"
   ]
  },
  {
   "cell_type": "markdown",
   "metadata": {
    "deletable": true,
    "editable": true
   },
   "source": [
    "### Fully Train the Model\n",
    "Now that you got a good accuracy with a single CIFAR-10 batch, try it with all five batches."
   ]
  },
  {
   "cell_type": "code",
   "execution_count": 18,
   "metadata": {
    "collapsed": false,
    "deletable": true,
    "editable": true
   },
   "outputs": [
    {
     "name": "stdout",
     "output_type": "stream",
     "text": [
      "Training...\n",
      "Epoch  1, CIFAR-10 Batch 1:  loss= 2.13815 accuracy= 0.30000\n",
      "Epoch  1, CIFAR-10 Batch 2:  loss= 1.92962 accuracy= 0.35000\n",
      "Epoch  1, CIFAR-10 Batch 3:  loss= 1.53244 accuracy= 0.47500\n",
      "Epoch  1, CIFAR-10 Batch 4:  loss= 1.61415 accuracy= 0.37500\n",
      "Epoch  1, CIFAR-10 Batch 5:  loss= 1.65817 accuracy= 0.37500\n",
      "Epoch  2, CIFAR-10 Batch 1:  loss= 1.71938 accuracy= 0.52500\n",
      "Epoch  2, CIFAR-10 Batch 2:  loss= 1.61709 accuracy= 0.40000\n",
      "Epoch  2, CIFAR-10 Batch 3:  loss= 1.21695 accuracy= 0.55000\n",
      "Epoch  2, CIFAR-10 Batch 4:  loss= 1.44791 accuracy= 0.42500\n",
      "Epoch  2, CIFAR-10 Batch 5:  loss= 1.48618 accuracy= 0.40000\n",
      "Epoch  3, CIFAR-10 Batch 1:  loss= 1.48767 accuracy= 0.55000\n",
      "Epoch  3, CIFAR-10 Batch 2:  loss= 1.39338 accuracy= 0.45000\n",
      "Epoch  3, CIFAR-10 Batch 3:  loss= 1.03308 accuracy= 0.55000\n",
      "Epoch  3, CIFAR-10 Batch 4:  loss= 1.33044 accuracy= 0.45000\n",
      "Epoch  3, CIFAR-10 Batch 5:  loss= 1.40462 accuracy= 0.52500\n",
      "Epoch  4, CIFAR-10 Batch 1:  loss= 1.32665 accuracy= 0.55000\n",
      "Epoch  4, CIFAR-10 Batch 2:  loss= 1.20671 accuracy= 0.55000\n",
      "Epoch  4, CIFAR-10 Batch 3:  loss= 0.91277 accuracy= 0.67500\n",
      "Epoch  4, CIFAR-10 Batch 4:  loss= 1.19781 accuracy= 0.52500\n",
      "Epoch  4, CIFAR-10 Batch 5:  loss= 1.27842 accuracy= 0.55000\n",
      "Epoch  5, CIFAR-10 Batch 1:  loss= 1.21299 accuracy= 0.60000\n",
      "Epoch  5, CIFAR-10 Batch 2:  loss= 1.06417 accuracy= 0.62500\n",
      "Epoch  5, CIFAR-10 Batch 3:  loss= 0.84781 accuracy= 0.70000\n",
      "Epoch  5, CIFAR-10 Batch 4:  loss= 1.09971 accuracy= 0.57500\n",
      "Epoch  5, CIFAR-10 Batch 5:  loss= 1.17244 accuracy= 0.62500\n",
      "Epoch  6, CIFAR-10 Batch 1:  loss= 1.13994 accuracy= 0.62500\n",
      "Epoch  6, CIFAR-10 Batch 2:  loss= 0.98280 accuracy= 0.62500\n",
      "Epoch  6, CIFAR-10 Batch 3:  loss= 0.79115 accuracy= 0.75000\n",
      "Epoch  6, CIFAR-10 Batch 4:  loss= 1.00149 accuracy= 0.60000\n",
      "Epoch  6, CIFAR-10 Batch 5:  loss= 1.07467 accuracy= 0.60000\n",
      "Epoch  7, CIFAR-10 Batch 1:  loss= 1.06416 accuracy= 0.62500\n",
      "Epoch  7, CIFAR-10 Batch 2:  loss= 0.90937 accuracy= 0.67500\n",
      "Epoch  7, CIFAR-10 Batch 3:  loss= 0.74088 accuracy= 0.77500\n",
      "Epoch  7, CIFAR-10 Batch 4:  loss= 0.90135 accuracy= 0.70000\n",
      "Epoch  7, CIFAR-10 Batch 5:  loss= 0.98842 accuracy= 0.67500\n",
      "Epoch  8, CIFAR-10 Batch 1:  loss= 1.02547 accuracy= 0.65000\n",
      "Epoch  8, CIFAR-10 Batch 2:  loss= 0.86551 accuracy= 0.67500\n",
      "Epoch  8, CIFAR-10 Batch 3:  loss= 0.65409 accuracy= 0.80000\n",
      "Epoch  8, CIFAR-10 Batch 4:  loss= 0.84327 accuracy= 0.75000\n",
      "Epoch  8, CIFAR-10 Batch 5:  loss= 0.91509 accuracy= 0.67500\n",
      "Epoch  9, CIFAR-10 Batch 1:  loss= 0.96449 accuracy= 0.65000\n",
      "Epoch  9, CIFAR-10 Batch 2:  loss= 0.80837 accuracy= 0.70000\n",
      "Epoch  9, CIFAR-10 Batch 3:  loss= 0.58706 accuracy= 0.90000\n",
      "Epoch  9, CIFAR-10 Batch 4:  loss= 0.78276 accuracy= 0.72500\n",
      "Epoch  9, CIFAR-10 Batch 5:  loss= 0.84882 accuracy= 0.75000\n",
      "Epoch 10, CIFAR-10 Batch 1:  loss= 0.88981 accuracy= 0.65000\n",
      "Epoch 10, CIFAR-10 Batch 2:  loss= 0.75766 accuracy= 0.70000\n",
      "Epoch 10, CIFAR-10 Batch 3:  loss= 0.53781 accuracy= 0.87500\n",
      "Epoch 10, CIFAR-10 Batch 4:  loss= 0.71704 accuracy= 0.75000\n",
      "Epoch 10, CIFAR-10 Batch 5:  loss= 0.77970 accuracy= 0.80000\n",
      "Epoch 11, CIFAR-10 Batch 1:  loss= 0.83484 accuracy= 0.75000\n",
      "Epoch 11, CIFAR-10 Batch 2:  loss= 0.71293 accuracy= 0.75000\n",
      "Epoch 11, CIFAR-10 Batch 3:  loss= 0.50153 accuracy= 0.87500\n",
      "Epoch 11, CIFAR-10 Batch 4:  loss= 0.66015 accuracy= 0.80000\n",
      "Epoch 11, CIFAR-10 Batch 5:  loss= 0.73813 accuracy= 0.80000\n",
      "Epoch 12, CIFAR-10 Batch 1:  loss= 0.77366 accuracy= 0.77500\n",
      "Epoch 12, CIFAR-10 Batch 2:  loss= 0.65141 accuracy= 0.80000\n",
      "Epoch 12, CIFAR-10 Batch 3:  loss= 0.47503 accuracy= 0.90000\n",
      "Epoch 12, CIFAR-10 Batch 4:  loss= 0.61132 accuracy= 0.87500\n",
      "Epoch 12, CIFAR-10 Batch 5:  loss= 0.69439 accuracy= 0.80000\n",
      "Epoch 13, CIFAR-10 Batch 1:  loss= 0.72011 accuracy= 0.80000\n",
      "Epoch 13, CIFAR-10 Batch 2:  loss= 0.60543 accuracy= 0.85000\n",
      "Epoch 13, CIFAR-10 Batch 3:  loss= 0.44103 accuracy= 0.90000\n",
      "Epoch 13, CIFAR-10 Batch 4:  loss= 0.55898 accuracy= 0.87500\n",
      "Epoch 13, CIFAR-10 Batch 5:  loss= 0.65173 accuracy= 0.85000\n",
      "Epoch 14, CIFAR-10 Batch 1:  loss= 0.68422 accuracy= 0.82500\n",
      "Epoch 14, CIFAR-10 Batch 2:  loss= 0.55214 accuracy= 0.85000\n",
      "Epoch 14, CIFAR-10 Batch 3:  loss= 0.41280 accuracy= 0.90000\n",
      "Epoch 14, CIFAR-10 Batch 4:  loss= 0.52984 accuracy= 0.87500\n",
      "Epoch 14, CIFAR-10 Batch 5:  loss= 0.60774 accuracy= 0.90000\n",
      "Epoch 15, CIFAR-10 Batch 1:  loss= 0.63981 accuracy= 0.82500\n",
      "Epoch 15, CIFAR-10 Batch 2:  loss= 0.50291 accuracy= 0.85000\n",
      "Epoch 15, CIFAR-10 Batch 3:  loss= 0.39009 accuracy= 0.95000\n",
      "Epoch 15, CIFAR-10 Batch 4:  loss= 0.49723 accuracy= 0.87500\n",
      "Epoch 15, CIFAR-10 Batch 5:  loss= 0.57323 accuracy= 0.92500\n",
      "Epoch 16, CIFAR-10 Batch 1:  loss= 0.60056 accuracy= 0.82500\n",
      "Epoch 16, CIFAR-10 Batch 2:  loss= 0.46557 accuracy= 0.87500\n",
      "Epoch 16, CIFAR-10 Batch 3:  loss= 0.36551 accuracy= 0.95000\n",
      "Epoch 16, CIFAR-10 Batch 4:  loss= 0.46848 accuracy= 0.87500\n",
      "Epoch 16, CIFAR-10 Batch 5:  loss= 0.54860 accuracy= 0.92500\n",
      "Epoch 17, CIFAR-10 Batch 1:  loss= 0.56919 accuracy= 0.85000\n",
      "Epoch 17, CIFAR-10 Batch 2:  loss= 0.44199 accuracy= 0.87500\n",
      "Epoch 17, CIFAR-10 Batch 3:  loss= 0.34702 accuracy= 0.95000\n",
      "Epoch 17, CIFAR-10 Batch 4:  loss= 0.43710 accuracy= 0.87500\n",
      "Epoch 17, CIFAR-10 Batch 5:  loss= 0.51123 accuracy= 0.92500\n",
      "Epoch 18, CIFAR-10 Batch 1:  loss= 0.54056 accuracy= 0.85000\n",
      "Epoch 18, CIFAR-10 Batch 2:  loss= 0.41690 accuracy= 0.87500\n",
      "Epoch 18, CIFAR-10 Batch 3:  loss= 0.32338 accuracy= 1.00000\n",
      "Epoch 18, CIFAR-10 Batch 4:  loss= 0.41639 accuracy= 0.90000\n",
      "Epoch 18, CIFAR-10 Batch 5:  loss= 0.48923 accuracy= 0.92500\n",
      "Epoch 19, CIFAR-10 Batch 1:  loss= 0.50979 accuracy= 0.85000\n",
      "Epoch 19, CIFAR-10 Batch 2:  loss= 0.38947 accuracy= 0.90000\n",
      "Epoch 19, CIFAR-10 Batch 3:  loss= 0.30614 accuracy= 1.00000\n",
      "Epoch 19, CIFAR-10 Batch 4:  loss= 0.39388 accuracy= 0.90000\n",
      "Epoch 19, CIFAR-10 Batch 5:  loss= 0.46953 accuracy= 0.92500\n",
      "Epoch 20, CIFAR-10 Batch 1:  loss= 0.48843 accuracy= 0.85000\n",
      "Epoch 20, CIFAR-10 Batch 2:  loss= 0.37034 accuracy= 0.92500\n",
      "Epoch 20, CIFAR-10 Batch 3:  loss= 0.28546 accuracy= 1.00000\n",
      "Epoch 20, CIFAR-10 Batch 4:  loss= 0.37428 accuracy= 0.92500\n",
      "Epoch 20, CIFAR-10 Batch 5:  loss= 0.42837 accuracy= 0.92500\n",
      "Epoch 21, CIFAR-10 Batch 1:  loss= 0.47071 accuracy= 0.85000\n",
      "Epoch 21, CIFAR-10 Batch 2:  loss= 0.35294 accuracy= 0.92500\n",
      "Epoch 21, CIFAR-10 Batch 3:  loss= 0.26886 accuracy= 0.97500\n",
      "Epoch 21, CIFAR-10 Batch 4:  loss= 0.36276 accuracy= 0.92500\n",
      "Epoch 21, CIFAR-10 Batch 5:  loss= 0.39635 accuracy= 0.95000\n",
      "Epoch 22, CIFAR-10 Batch 1:  loss= 0.44572 accuracy= 0.85000\n",
      "Epoch 22, CIFAR-10 Batch 2:  loss= 0.34514 accuracy= 0.92500\n",
      "Epoch 22, CIFAR-10 Batch 3:  loss= 0.25922 accuracy= 1.00000\n",
      "Epoch 22, CIFAR-10 Batch 4:  loss= 0.35559 accuracy= 0.95000\n",
      "Epoch 22, CIFAR-10 Batch 5:  loss= 0.37652 accuracy= 0.95000\n",
      "Epoch 23, CIFAR-10 Batch 1:  loss= 0.42946 accuracy= 0.85000\n",
      "Epoch 23, CIFAR-10 Batch 2:  loss= 0.34804 accuracy= 0.92500\n",
      "Epoch 23, CIFAR-10 Batch 3:  loss= 0.25726 accuracy= 1.00000\n",
      "Epoch 23, CIFAR-10 Batch 4:  loss= 0.34521 accuracy= 0.95000\n",
      "Epoch 23, CIFAR-10 Batch 5:  loss= 0.37252 accuracy= 0.95000\n",
      "Epoch 24, CIFAR-10 Batch 1:  loss= 0.41112 accuracy= 0.85000\n",
      "Epoch 24, CIFAR-10 Batch 2:  loss= 0.34814 accuracy= 0.92500\n",
      "Epoch 24, CIFAR-10 Batch 3:  loss= 0.25628 accuracy= 1.00000\n",
      "Epoch 24, CIFAR-10 Batch 4:  loss= 0.35054 accuracy= 0.92500\n",
      "Epoch 24, CIFAR-10 Batch 5:  loss= 0.35561 accuracy= 0.92500\n",
      "Epoch 25, CIFAR-10 Batch 1:  loss= 0.39846 accuracy= 0.87500\n",
      "Epoch 25, CIFAR-10 Batch 2:  loss= 0.36544 accuracy= 0.92500\n",
      "Epoch 25, CIFAR-10 Batch 3:  loss= 0.25062 accuracy= 1.00000\n",
      "Epoch 25, CIFAR-10 Batch 4:  loss= 0.34135 accuracy= 0.92500\n",
      "Epoch 25, CIFAR-10 Batch 5:  loss= 0.33713 accuracy= 0.95000\n",
      "Epoch 26, CIFAR-10 Batch 1:  loss= 0.37909 accuracy= 0.87500\n",
      "Epoch 26, CIFAR-10 Batch 2:  loss= 0.33218 accuracy= 0.92500\n",
      "Epoch 26, CIFAR-10 Batch 3:  loss= 0.23764 accuracy= 1.00000\n",
      "Epoch 26, CIFAR-10 Batch 4:  loss= 0.32709 accuracy= 0.95000\n",
      "Epoch 26, CIFAR-10 Batch 5:  loss= 0.31767 accuracy= 0.95000\n",
      "Epoch 27, CIFAR-10 Batch 1:  loss= 0.35429 accuracy= 0.95000\n",
      "Epoch 27, CIFAR-10 Batch 2:  loss= 0.30512 accuracy= 0.95000\n",
      "Epoch 27, CIFAR-10 Batch 3:  loss= 0.22980 accuracy= 1.00000\n",
      "Epoch 27, CIFAR-10 Batch 4:  loss= 0.30510 accuracy= 0.95000\n",
      "Epoch 27, CIFAR-10 Batch 5:  loss= 0.29474 accuracy= 0.95000\n",
      "Epoch 28, CIFAR-10 Batch 1:  loss= 0.32119 accuracy= 0.95000\n",
      "Epoch 28, CIFAR-10 Batch 2:  loss= 0.28647 accuracy= 0.97500\n",
      "Epoch 28, CIFAR-10 Batch 3:  loss= 0.22048 accuracy= 1.00000\n",
      "Epoch 28, CIFAR-10 Batch 4:  loss= 0.28919 accuracy= 0.95000\n",
      "Epoch 28, CIFAR-10 Batch 5:  loss= 0.27324 accuracy= 0.97500\n",
      "Epoch 29, CIFAR-10 Batch 1:  loss= 0.29714 accuracy= 1.00000\n",
      "Epoch 29, CIFAR-10 Batch 2:  loss= 0.27594 accuracy= 0.97500\n",
      "Epoch 29, CIFAR-10 Batch 3:  loss= 0.21273 accuracy= 1.00000\n",
      "Epoch 29, CIFAR-10 Batch 4:  loss= 0.28035 accuracy= 0.95000\n",
      "Epoch 29, CIFAR-10 Batch 5:  loss= 0.25924 accuracy= 0.97500\n",
      "Epoch 30, CIFAR-10 Batch 1:  loss= 0.27336 accuracy= 1.00000\n",
      "Epoch 30, CIFAR-10 Batch 2:  loss= 0.26163 accuracy= 0.97500\n",
      "Epoch 30, CIFAR-10 Batch 3:  loss= 0.20514 accuracy= 1.00000\n",
      "Epoch 30, CIFAR-10 Batch 4:  loss= 0.27329 accuracy= 0.95000\n",
      "Epoch 30, CIFAR-10 Batch 5:  loss= 0.24666 accuracy= 0.97500\n",
      "Epoch 31, CIFAR-10 Batch 1:  loss= 0.26163 accuracy= 1.00000\n",
      "Epoch 31, CIFAR-10 Batch 2:  loss= 0.25319 accuracy= 0.97500\n",
      "Epoch 31, CIFAR-10 Batch 3:  loss= 0.19902 accuracy= 1.00000\n",
      "Epoch 31, CIFAR-10 Batch 4:  loss= 0.26523 accuracy= 0.95000\n",
      "Epoch 31, CIFAR-10 Batch 5:  loss= 0.24682 accuracy= 0.97500\n",
      "Epoch 32, CIFAR-10 Batch 1:  loss= 0.25235 accuracy= 0.97500\n",
      "Epoch 32, CIFAR-10 Batch 2:  loss= 0.24994 accuracy= 0.97500\n",
      "Epoch 32, CIFAR-10 Batch 3:  loss= 0.19979 accuracy= 1.00000\n",
      "Epoch 32, CIFAR-10 Batch 4:  loss= 0.25931 accuracy= 0.95000\n",
      "Epoch 32, CIFAR-10 Batch 5:  loss= 0.24715 accuracy= 0.97500\n",
      "Epoch 33, CIFAR-10 Batch 1:  loss= 0.24540 accuracy= 0.97500\n",
      "Epoch 33, CIFAR-10 Batch 2:  loss= 0.23925 accuracy= 0.97500\n",
      "Epoch 33, CIFAR-10 Batch 3:  loss= 0.19404 accuracy= 1.00000\n",
      "Epoch 33, CIFAR-10 Batch 4:  loss= 0.25016 accuracy= 0.95000\n",
      "Epoch 33, CIFAR-10 Batch 5:  loss= 0.23441 accuracy= 0.97500\n",
      "Epoch 34, CIFAR-10 Batch 1:  loss= 0.24715 accuracy= 0.97500\n",
      "Epoch 34, CIFAR-10 Batch 2:  loss= 0.22703 accuracy= 0.97500\n",
      "Epoch 34, CIFAR-10 Batch 3:  loss= 0.19345 accuracy= 1.00000\n",
      "Epoch 34, CIFAR-10 Batch 4:  loss= 0.24015 accuracy= 0.95000\n",
      "Epoch 34, CIFAR-10 Batch 5:  loss= 0.23010 accuracy= 0.97500\n",
      "Epoch 35, CIFAR-10 Batch 1:  loss= 0.24149 accuracy= 0.97500\n",
      "Epoch 35, CIFAR-10 Batch 2:  loss= 0.22098 accuracy= 1.00000\n",
      "Epoch 35, CIFAR-10 Batch 3:  loss= 0.19288 accuracy= 1.00000\n",
      "Epoch 35, CIFAR-10 Batch 4:  loss= 0.22696 accuracy= 0.97500\n",
      "Epoch 35, CIFAR-10 Batch 5:  loss= 0.20805 accuracy= 0.97500\n",
      "Epoch 36, CIFAR-10 Batch 1:  loss= 0.22670 accuracy= 1.00000\n",
      "Epoch 36, CIFAR-10 Batch 2:  loss= 0.21054 accuracy= 1.00000\n",
      "Epoch 36, CIFAR-10 Batch 3:  loss= 0.20261 accuracy= 0.97500\n",
      "Epoch 36, CIFAR-10 Batch 4:  loss= 0.22239 accuracy= 1.00000\n",
      "Epoch 36, CIFAR-10 Batch 5:  loss= 0.20783 accuracy= 0.97500\n",
      "Epoch 37, CIFAR-10 Batch 1:  loss= 0.22021 accuracy= 1.00000\n",
      "Epoch 37, CIFAR-10 Batch 2:  loss= 0.20166 accuracy= 1.00000\n",
      "Epoch 37, CIFAR-10 Batch 3:  loss= 0.21620 accuracy= 0.97500\n",
      "Epoch 37, CIFAR-10 Batch 4:  loss= 0.21549 accuracy= 1.00000\n",
      "Epoch 37, CIFAR-10 Batch 5:  loss= 0.19170 accuracy= 0.97500\n",
      "Epoch 38, CIFAR-10 Batch 1:  loss= 0.21028 accuracy= 1.00000\n",
      "Epoch 38, CIFAR-10 Batch 2:  loss= 0.19621 accuracy= 1.00000\n",
      "Epoch 38, CIFAR-10 Batch 3:  loss= 0.22896 accuracy= 0.97500\n",
      "Epoch 38, CIFAR-10 Batch 4:  loss= 0.21321 accuracy= 1.00000\n",
      "Epoch 38, CIFAR-10 Batch 5:  loss= 0.17763 accuracy= 0.97500\n",
      "Epoch 39, CIFAR-10 Batch 1:  loss= 0.19404 accuracy= 1.00000\n",
      "Epoch 39, CIFAR-10 Batch 2:  loss= 0.19548 accuracy= 1.00000\n",
      "Epoch 39, CIFAR-10 Batch 3:  loss= 0.21810 accuracy= 1.00000\n",
      "Epoch 39, CIFAR-10 Batch 4:  loss= 0.20225 accuracy= 1.00000\n",
      "Epoch 39, CIFAR-10 Batch 5:  loss= 0.16699 accuracy= 0.97500\n",
      "Epoch 40, CIFAR-10 Batch 1:  loss= 0.18556 accuracy= 1.00000\n",
      "Epoch 40, CIFAR-10 Batch 2:  loss= 0.19496 accuracy= 1.00000\n",
      "Epoch 40, CIFAR-10 Batch 3:  loss= 0.18692 accuracy= 1.00000\n",
      "Epoch 40, CIFAR-10 Batch 4:  loss= 0.19554 accuracy= 1.00000\n",
      "Epoch 40, CIFAR-10 Batch 5:  loss= 0.16986 accuracy= 1.00000\n",
      "Epoch 41, CIFAR-10 Batch 1:  loss= 0.20697 accuracy= 1.00000\n",
      "Epoch 41, CIFAR-10 Batch 2:  loss= 0.20371 accuracy= 1.00000\n",
      "Epoch 41, CIFAR-10 Batch 3:  loss= 0.17296 accuracy= 1.00000\n",
      "Epoch 41, CIFAR-10 Batch 4:  loss= 0.19627 accuracy= 1.00000\n",
      "Epoch 41, CIFAR-10 Batch 5:  loss= 0.18226 accuracy= 0.97500\n",
      "Epoch 42, CIFAR-10 Batch 1:  loss= 0.21182 accuracy= 1.00000\n",
      "Epoch 42, CIFAR-10 Batch 2:  loss= 0.21037 accuracy= 1.00000\n",
      "Epoch 42, CIFAR-10 Batch 3:  loss= 0.15774 accuracy= 1.00000\n",
      "Epoch 42, CIFAR-10 Batch 4:  loss= 0.19473 accuracy= 1.00000\n",
      "Epoch 42, CIFAR-10 Batch 5:  loss= 0.19069 accuracy= 0.97500\n",
      "Epoch 43, CIFAR-10 Batch 1:  loss= 0.16836 accuracy= 1.00000\n",
      "Epoch 43, CIFAR-10 Batch 2:  loss= 0.19478 accuracy= 1.00000\n",
      "Epoch 43, CIFAR-10 Batch 3:  loss= 0.14470 accuracy= 1.00000\n",
      "Epoch 43, CIFAR-10 Batch 4:  loss= 0.19394 accuracy= 1.00000\n",
      "Epoch 43, CIFAR-10 Batch 5:  loss= 0.17545 accuracy= 0.97500\n",
      "Epoch 44, CIFAR-10 Batch 1:  loss= 0.15530 accuracy= 1.00000\n",
      "Epoch 44, CIFAR-10 Batch 2:  loss= 0.19768 accuracy= 0.97500\n",
      "Epoch 44, CIFAR-10 Batch 3:  loss= 0.13288 accuracy= 1.00000\n",
      "Epoch 44, CIFAR-10 Batch 4:  loss= 0.18137 accuracy= 1.00000\n",
      "Epoch 44, CIFAR-10 Batch 5:  loss= 0.16715 accuracy= 1.00000\n",
      "Epoch 45, CIFAR-10 Batch 1:  loss= 0.14494 accuracy= 1.00000\n",
      "Epoch 45, CIFAR-10 Batch 2:  loss= 0.20068 accuracy= 1.00000\n",
      "Epoch 45, CIFAR-10 Batch 3:  loss= 0.12765 accuracy= 1.00000\n",
      "Epoch 45, CIFAR-10 Batch 4:  loss= 0.16710 accuracy= 1.00000\n",
      "Epoch 45, CIFAR-10 Batch 5:  loss= 0.16044 accuracy= 0.97500\n",
      "Epoch 46, CIFAR-10 Batch 1:  loss= 0.13400 accuracy= 1.00000\n",
      "Epoch 46, CIFAR-10 Batch 2:  loss= 0.19264 accuracy= 1.00000\n",
      "Epoch 46, CIFAR-10 Batch 3:  loss= 0.12099 accuracy= 1.00000\n",
      "Epoch 46, CIFAR-10 Batch 4:  loss= 0.16196 accuracy= 1.00000\n",
      "Epoch 46, CIFAR-10 Batch 5:  loss= 0.15553 accuracy= 1.00000\n",
      "Epoch 47, CIFAR-10 Batch 1:  loss= 0.13394 accuracy= 1.00000\n",
      "Epoch 47, CIFAR-10 Batch 2:  loss= 0.19555 accuracy= 1.00000\n",
      "Epoch 47, CIFAR-10 Batch 3:  loss= 0.11814 accuracy= 1.00000\n",
      "Epoch 47, CIFAR-10 Batch 4:  loss= 0.16137 accuracy= 1.00000\n",
      "Epoch 47, CIFAR-10 Batch 5:  loss= 0.13949 accuracy= 1.00000\n",
      "Epoch 48, CIFAR-10 Batch 1:  loss= 0.13930 accuracy= 1.00000\n",
      "Epoch 48, CIFAR-10 Batch 2:  loss= 0.17593 accuracy= 1.00000\n",
      "Epoch 48, CIFAR-10 Batch 3:  loss= 0.11242 accuracy= 1.00000\n",
      "Epoch 48, CIFAR-10 Batch 4:  loss= 0.15542 accuracy= 1.00000\n",
      "Epoch 48, CIFAR-10 Batch 5:  loss= 0.13904 accuracy= 1.00000\n",
      "Epoch 49, CIFAR-10 Batch 1:  loss= 0.15722 accuracy= 1.00000\n",
      "Epoch 49, CIFAR-10 Batch 2:  loss= 0.16921 accuracy= 1.00000\n",
      "Epoch 49, CIFAR-10 Batch 3:  loss= 0.11650 accuracy= 1.00000\n",
      "Epoch 49, CIFAR-10 Batch 4:  loss= 0.14980 accuracy= 1.00000\n",
      "Epoch 49, CIFAR-10 Batch 5:  loss= 0.14929 accuracy= 1.00000\n",
      "Epoch 50, CIFAR-10 Batch 1:  loss= 0.17108 accuracy= 1.00000\n",
      "Epoch 50, CIFAR-10 Batch 2:  loss= 0.14616 accuracy= 1.00000\n",
      "Epoch 50, CIFAR-10 Batch 3:  loss= 0.12160 accuracy= 1.00000\n",
      "Epoch 50, CIFAR-10 Batch 4:  loss= 0.14861 accuracy= 1.00000\n",
      "Epoch 50, CIFAR-10 Batch 5:  loss= 0.14313 accuracy= 1.00000\n"
     ]
    }
   ],
   "source": [
    "\"\"\"\n",
    "DON'T MODIFY ANYTHING IN THIS CELL\n",
    "\"\"\"\n",
    "save_model_path = './image_classification'\n",
    "\n",
    "print('Training...')\n",
    "with tf.Session() as sess:\n",
    "    # Initializing the variables\n",
    "    sess.run(tf.global_variables_initializer())\n",
    "    \n",
    "    # Training cycle\n",
    "    for epoch in range(epochs):\n",
    "        # Loop over all batches\n",
    "        n_batches = 5\n",
    "        for batch_i in range(1, n_batches + 1):\n",
    "            for batch_features, batch_labels in helper.load_preprocess_training_batch(batch_i, batch_size):\n",
    "                train_neural_network(sess, optimizer, keep_probability, batch_features, batch_labels)\n",
    "            print('Epoch {:>2}, CIFAR-10 Batch {}:  '.format(epoch + 1, batch_i), end='')\n",
    "            print_stats(sess, batch_features, batch_labels, cost, accuracy)\n",
    "            \n",
    "    # Save Model\n",
    "    saver = tf.train.Saver()\n",
    "    save_path = saver.save(sess, save_model_path)"
   ]
  },
  {
   "cell_type": "markdown",
   "metadata": {
    "deletable": true,
    "editable": true
   },
   "source": [
    "# Checkpoint\n",
    "The model has been saved to disk.\n",
    "## Test Model\n",
    "Test your model against the test dataset.  This will be your final accuracy. You should have an accuracy greater than 50%. If you don't, keep tweaking the model architecture and parameters."
   ]
  },
  {
   "cell_type": "code",
   "execution_count": 19,
   "metadata": {
    "collapsed": false,
    "deletable": true,
    "editable": true
   },
   "outputs": [
    {
     "name": "stdout",
     "output_type": "stream",
     "text": [
      "Testing Accuracy: 0.60966796875\n",
      "\n"
     ]
    },
    {
     "data": {
      "image/png": "[encoded data removed]",
      "text/plain": [
       "<matplotlib.figure.Figure at 0x7f34dcd273c8>"
      ]
     },
     "metadata": {
      "image/png": {
       "height": 319,
       "width": 355
      }
     },
     "output_type": "display_data"
    }
   ],
   "source": [
    "\"\"\"\n",
    "DON'T MODIFY ANYTHING IN THIS CELL\n",
    "\"\"\"\n",
    "%matplotlib inline\n",
    "%config InlineBackend.figure_format = 'retina'\n",
    "\n",
    "import tensorflow as tf\n",
    "import pickle\n",
    "import helper\n",
    "import random\n",
    "\n",
    "# Set batch size if not already set\n",
    "try:\n",
    "    if batch_size:\n",
    "        pass\n",
    "except NameError:\n",
    "    batch_size = 64\n",
    "\n",
    "save_model_path = './image_classification'\n",
    "n_samples = 4\n",
    "top_n_predictions = 3\n",
    "\n",
    "def test_model():\n",
    "    \"\"\"\n",
    "    Test the saved model against the test dataset\n",
    "    \"\"\"\n",
    "\n",
    "    test_features, test_labels = pickle.load(open('preprocess_test.p', mode='rb'))\n",
    "    loaded_graph = tf.Graph()\n",
    "\n",
    "    with tf.Session(graph=loaded_graph) as sess:\n",
    "        # Load model\n",
    "        loader = tf.train.import_meta_graph(save_model_path + '.meta')\n",
    "        loader.restore(sess, save_model_path)\n",
    "\n",
    "        # Get Tensors from loaded model\n",
    "        loaded_x = loaded_graph.get_tensor_by_name('x:0')\n",
    "        loaded_y = loaded_graph.get_tensor_by_name('y:0')\n",
    "        loaded_keep_prob = loaded_graph.get_tensor_by_name('keep_prob:0')\n",
    "        loaded_logits = loaded_graph.get_tensor_by_name('logits:0')\n",
    "        loaded_acc = loaded_graph.get_tensor_by_name('accuracy:0')\n",
    "        \n",
    "        # Get accuracy in batches for memory limitations\n",
    "        test_batch_acc_total = 0\n",
    "        test_batch_count = 0\n",
    "        \n",
    "        for test_feature_batch, test_label_batch in helper.batch_features_labels(test_features, test_labels, batch_size):\n",
    "            test_batch_acc_total += sess.run(\n",
    "                loaded_acc,\n",
    "                feed_dict={loaded_x: test_feature_batch, loaded_y: test_label_batch, loaded_keep_prob: 1.0})\n",
    "            test_batch_count += 1\n",
    "\n",
    "        print('Testing Accuracy: {}\\n'.format(test_batch_acc_total/test_batch_count))\n",
    "\n",
    "        # Print Random Samples\n",
    "        random_test_features, random_test_labels = tuple(zip(*random.sample(list(zip(test_features, test_labels)), n_samples)))\n",
    "        random_test_predictions = sess.run(\n",
    "            tf.nn.top_k(tf.nn.softmax(loaded_logits), top_n_predictions),\n",
    "            feed_dict={loaded_x: random_test_features, loaded_y: random_test_labels, loaded_keep_prob: 1.0})\n",
    "        helper.display_image_predictions(random_test_features, random_test_labels, random_test_predictions)\n",
    "\n",
    "\n",
    "test_model()"
   ]
  },
  {
   "cell_type": "markdown",
   "metadata": {
    "deletable": true,
    "editable": true
   },
   "source": [
    "## Why 50-80% Accuracy?\n",
    "You might be wondering why you can't get an accuracy any higher. First things first, 50% isn't bad for a simple CNN.  Pure guessing would get you 10% accuracy. However, you might notice people are getting scores [well above 80%](http://rodrigob.github.io/are_we_there_yet/build/classification_datasets_results.html#43494641522d3130).  That's because we haven't taught you all there is to know about neural networks. We still need to cover a few more techniques.\n",
    "## Submitting This Project\n",
    "When submitting this project, make sure to run all the cells before saving the notebook.  Save the notebook file as \"dlnd_image_classification.ipynb\" and save it as a HTML file under \"File\" -> \"Download as\".  Include the \"helper.py\" and \"problem_unittests.py\" files in your submission."
   ]
  }
 ],
 "metadata": {
  "kernelspec": {
   "display_name": "Python 3",
   "language": "python",
   "name": "python3"
  },
  "language_info": {
   "codemirror_mode": {
    "name": "ipython",
    "version": 3
   },
   "file_extension": ".py",
   "mimetype": "text/x-python",
   "name": "python",
   "nbconvert_exporter": "python",
   "pygments_lexer": "ipython3",
   "version": "3.5.3"
  }
 },
 "nbformat": 4,
 "nbformat_minor": 0
}
