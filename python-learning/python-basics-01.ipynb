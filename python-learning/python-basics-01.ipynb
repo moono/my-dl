{
 "cells": [
  {
   "cell_type": "code",
   "execution_count": 1,
   "metadata": {},
   "outputs": [
    {
     "name": "stdout",
     "output_type": "stream",
     "text": [
      "Hello world!\n",
      "Hello world!\n"
     ]
    }
   ],
   "source": [
    "print(\"Hello world!\")\n",
    "\n",
    "msg = \"Hello world!\"\n",
    "print(msg)"
   ]
  },
  {
   "cell_type": "code",
   "execution_count": 2,
   "metadata": {},
   "outputs": [
    {
     "name": "stdout",
     "output_type": "stream",
     "text": [
      "albert einstein\n"
     ]
    }
   ],
   "source": [
    "first_name = 'albert'\n",
    "last_name = 'einstein'\n",
    "full_name = first_name + ' ' + last_name\n",
    "print(full_name)"
   ]
  },
  {
   "cell_type": "code",
   "execution_count": 4,
   "metadata": {},
   "outputs": [
    {
     "name": "stdout",
     "output_type": "stream",
     "text": [
      "0:  trek , last:  giant\n"
     ]
    }
   ],
   "source": [
    "bikes = ['trek', 'redline', 'giant']\n",
    "first_bike = bikes[0]\n",
    "last_bike = bikes[-1]\n",
    "print('0: ', first_bike, ', last: ', last_bike)"
   ]
  },
  {
   "cell_type": "code",
   "execution_count": 5,
   "metadata": {},
   "outputs": [
    {
     "name": "stdout",
     "output_type": "stream",
     "text": [
      "trek\n",
      "redline\n",
      "giant\n"
     ]
    }
   ],
   "source": [
    "for bike in bikes:\n",
    "    print(bike)"
   ]
  },
  {
   "cell_type": "code",
   "execution_count": 1,
   "metadata": {},
   "outputs": [
    {
     "name": "stdout",
     "output_type": "stream",
     "text": [
      "1\n",
      "2\n",
      "3\n",
      "4\n",
      "5\n",
      "6\n",
      "7\n",
      "8\n",
      "9\n",
      "10\n"
     ]
    }
   ],
   "source": [
    "bikes = []\n",
    "bikes.append('trek')\n",
    "bikes.append('redline')\n",
    "squares = []\n",
    "for x in range(1, 11):\n",
    "    squares.append(x**2)\n",
    "    print(x)"
   ]
  },
  {
   "cell_type": "code",
   "execution_count": 3,
   "metadata": {},
   "outputs": [
    {
     "name": "stdout",
     "output_type": "stream",
     "text": [
      "1\n",
      "4\n",
      "9\n",
      "16\n",
      "25\n",
      "36\n",
      "49\n",
      "64\n",
      "81\n",
      "100\n"
     ]
    }
   ],
   "source": [
    "squares = [x**2 for x in range(1,11)]\n",
    "for s in squares:\n",
    "    print(s)"
   ]
  },
  {
   "cell_type": "code",
   "execution_count": 5,
   "metadata": {},
   "outputs": [
    {
     "name": "stdout",
     "output_type": "stream",
     "text": [
      "sam\n",
      "bob\n"
     ]
    }
   ],
   "source": [
    "finishers = ['sam', 'bob', 'ada', 'bea']\n",
    "first_two = finishers[:2]\n",
    "for f in first_two:\n",
    "    print(f)"
   ]
  },
  {
   "cell_type": "code",
   "execution_count": 20,
   "metadata": {},
   "outputs": [
    {
     "name": "stdout",
     "output_type": "stream",
     "text": [
      "['trek', 'redline']\n",
      "2\n"
     ]
    }
   ],
   "source": [
    "copy_of_bikes = bikes[:]\n",
    "print(copy_of_bikes)\n",
    "print(len(copy_of_bikes))"
   ]
  },
  {
   "cell_type": "code",
   "execution_count": 9,
   "metadata": {
    "collapsed": true
   },
   "outputs": [],
   "source": [
    "dimensions = (1920, 1080)"
   ]
  },
  {
   "cell_type": "code",
   "execution_count": 10,
   "metadata": {},
   "outputs": [
    {
     "name": "stdout",
     "output_type": "stream",
     "text": [
      "The alien's color is green\n"
     ]
    }
   ],
   "source": [
    "alien = {'color': 'green', 'points': 5}\n",
    "print(\"The alien's color is \" + alien['color'])\n",
    "alien['x_position'] = 0"
   ]
  },
  {
   "cell_type": "code",
   "execution_count": 12,
   "metadata": {},
   "outputs": [
    {
     "name": "stdout",
     "output_type": "stream",
     "text": [
      "eric loves 17\n",
      "ever loves 4\n"
     ]
    }
   ],
   "source": [
    "fav_numbers = {'eric': 17, 'ever': 4}\n",
    "for name, number in fav_numbers.items():\n",
    "    print(name + ' loves ' + str(number))"
   ]
  },
  {
   "cell_type": "code",
   "execution_count": 13,
   "metadata": {},
   "outputs": [
    {
     "name": "stdout",
     "output_type": "stream",
     "text": [
      "eric loves a number\n",
      "ever loves a number\n"
     ]
    }
   ],
   "source": [
    "fav_numbers = {'eric': 17, 'ever': 4}\n",
    "for name in fav_numbers.keys():\n",
    "    print(name + ' loves a number')"
   ]
  },
  {
   "cell_type": "code",
   "execution_count": 15,
   "metadata": {},
   "outputs": [
    {
     "name": "stdout",
     "output_type": "stream",
     "text": [
      "17 is a favorite\n",
      "4 is a favorite\n"
     ]
    }
   ],
   "source": [
    "fav_numbers = {'eric': 17, 'ever': 4}\n",
    "for number in fav_numbers.values():\n",
    "    print(str(number) + ' is a favorite')"
   ]
  },
  {
   "cell_type": "code",
   "execution_count": 16,
   "metadata": {
    "collapsed": true
   },
   "outputs": [],
   "source": [
    "class Dog():\n",
    "    \"\"\"Represents a dog.\"\"\"\n",
    "    def __init__(self, name):\n",
    "        \"\"\"initialize dog\"\"\"\n",
    "        self.name = name\n",
    "        \n",
    "    def sit(self):\n",
    "        \"\"\"Simulate sitting\"\"\"\n",
    "        print(self.name + \" is sitting\")"
   ]
  },
  {
   "cell_type": "code",
   "execution_count": 17,
   "metadata": {},
   "outputs": [
    {
     "name": "stdout",
     "output_type": "stream",
     "text": [
      "popo is a great dog!\n",
      "popo is sitting\n"
     ]
    }
   ],
   "source": [
    "my_dog = Dog('popo')\n",
    "print(my_dog.name + \" is a great dog!\")\n",
    "my_dog.sit()"
   ]
  },
  {
   "cell_type": "code",
   "execution_count": 18,
   "metadata": {
    "collapsed": true
   },
   "outputs": [],
   "source": [
    "class SARDog(Dog):\n",
    "    def __init__(self, name):\n",
    "        super().__init__(name)\n",
    "        \n",
    "    def search(self):\n",
    "        print(self.name + \" is searching\")"
   ]
  },
  {
   "cell_type": "code",
   "execution_count": 19,
   "metadata": {},
   "outputs": [
    {
     "name": "stdout",
     "output_type": "stream",
     "text": [
      "Willie is a search dog.\n",
      "Willie is sitting\n",
      "Willie is searching\n"
     ]
    }
   ],
   "source": [
    "my_dog = SARDog('Willie')\n",
    "print(my_dog.name + ' is a search dog.')\n",
    "my_dog.sit()\n",
    "my_dog.search()"
   ]
  },
  {
   "cell_type": "code",
   "execution_count": 21,
   "metadata": {},
   "outputs": [
    {
     "name": "stdout",
     "output_type": "stream",
     "text": [
      "Printing ring\n",
      "Printing pendant\n",
      "Printing phone case\n",
      "\n",
      "Unprinted: []\n",
      "Printed: ['ring', 'pendant', 'phone case']\n"
     ]
    }
   ],
   "source": [
    "# Allowing a function to modify a list\n",
    "def print_models(unprinted, printed):\n",
    "    \"\"\"3d print a set of models.\"\"\"\n",
    "    while unprinted:\n",
    "        current_model = unprinted.pop()\n",
    "        print(\"Printing \" + current_model)\n",
    "        printed.append(current_model)\n",
    "# Store some unprinted designs,\n",
    "#  and print each of them.\n",
    "unprinted = ['phone case', 'pendant', 'ring']\n",
    "printed = []\n",
    "print_models(unprinted, printed)\n",
    "print(\"\\nUnprinted:\", unprinted)\n",
    "print(\"Printed:\", printed)"
   ]
  },
  {
   "cell_type": "code",
   "execution_count": 22,
   "metadata": {},
   "outputs": [
    {
     "name": "stdout",
     "output_type": "stream",
     "text": [
      "Printing ring\n",
      "Printing pendant\n",
      "Printing phone case\n",
      "\n",
      "Original: ['phone case', 'pendant', 'ring']\n",
      "Printed: ['ring', 'pendant', 'phone case']\n"
     ]
    }
   ],
   "source": [
    "# Preventing a function from modifying a list\n",
    "original = ['phone case', 'pendant', 'ring']\n",
    "printed = []\n",
    "print_models(original[:], printed)\n",
    "print(\"\\nOriginal:\", original)\n",
    "print(\"Printed:\", printed)"
   ]
  },
  {
   "cell_type": "code",
   "execution_count": 23,
   "metadata": {},
   "outputs": [
    {
     "data": {
      "image/png": "[encoded data removed]",
      "text/plain": [
       "<matplotlib.figure.Figure at 0x109a45cc0>"
      ]
     },
     "metadata": {},
     "output_type": "display_data"
    }
   ],
   "source": [
    "# matplotlib\n",
    "import matplotlib.pyplot as plt\n",
    "x_values = [0, 1, 2, 3, 4, 5]\n",
    "squares = [0, 1, 4, 9, 16, 25]\n",
    "plt.plot(x_values, squares)\n",
    "plt.show()"
   ]
  },
  {
   "cell_type": "code",
   "execution_count": 24,
   "metadata": {},
   "outputs": [
    {
     "data": {
      "image/png": "[encoded data removed]",
      "text/plain": [
       "<matplotlib.figure.Figure at 0x112ebdd68>"
      ]
     },
     "metadata": {},
     "output_type": "display_data"
    }
   ],
   "source": [
    "x_values = list(range(1000))\n",
    "squares = [x**2 for x in x_values]\n",
    "plt.scatter(x_values, squares, s=10)\n",
    "plt.title(\"Square Numbers\", fontsize=24)\n",
    "plt.xlabel(\"Value\", fontsize=18)\n",
    "plt.ylabel(\"Square of Value\", fontsize=18)\n",
    "plt.tick_params(axis='both', which='major',\n",
    "                labelsize=14)\n",
    "plt.axis([0, 1100, 0, 1100000])\n",
    "plt.show()"
   ]
  },
  {
   "cell_type": "code",
   "execution_count": 25,
   "metadata": {},
   "outputs": [
    {
     "data": {
      "text/plain": [
       "<matplotlib.collections.PathCollection at 0x112fd6c88>"
      ]
     },
     "execution_count": 25,
     "metadata": {},
     "output_type": "execute_result"
    }
   ],
   "source": [
    "plt.scatter(x_values, squares, c=squares,\n",
    "        cmap=plt.cm.Blues, edgecolor='none',\n",
    "        s=10)"
   ]
  },
  {
   "cell_type": "code",
   "execution_count": 26,
   "metadata": {},
   "outputs": [
    {
     "data": {
      "image/png": "[encoded data removed]",
      "text/plain": [
       "<matplotlib.figure.Figure at 0x10fab97b8>"
      ]
     },
     "metadata": {},
     "output_type": "display_data"
    }
   ],
   "source": [
    "x_values = list(range(11))\n",
    "squares = [x**2 for x in x_values]\n",
    "cubes = [x**3 for x in x_values]\n",
    "\n",
    "plt.scatter(x_values, squares, c='blue', edgecolor='none', s=20)\n",
    "plt.scatter(x_values, cubes, c='red', edgecolor='none', s=20)\n",
    "\n",
    "plt.axis([0, 11, 0, 1100])\n",
    "plt.show()"
   ]
  },
  {
   "cell_type": "code",
   "execution_count": 27,
   "metadata": {},
   "outputs": [
    {
     "data": {
      "image/png": "[encoded data removed]",
      "text/plain": [
       "<matplotlib.figure.Figure at 0x112fb3f60>"
      ]
     },
     "metadata": {},
     "output_type": "display_data"
    }
   ],
   "source": [
    "x_vals = list(range(11))\n",
    "squares = [x**2 for x in x_vals]\n",
    "cubes = [x**3 for x in x_vals]\n",
    "\n",
    "fig, axarr = plt.subplots(2, 1, sharex=True)\n",
    "\n",
    "axarr[0].scatter(x_vals, squares)\n",
    "axarr[0].set_title('Squares')\n",
    "axarr[1].scatter(x_vals, cubes, c='red')\n",
    "axarr[1].set_title('Cubes')\n",
    "plt.show()"
   ]
  },
  {
   "cell_type": "code",
   "execution_count": null,
   "metadata": {
    "collapsed": true
   },
   "outputs": [],
   "source": []
  }
 ],
 "metadata": {
  "kernelspec": {
   "display_name": "Python 3",
   "language": "python",
   "name": "python3"
  },
  "language_info": {
   "codemirror_mode": {
    "name": "ipython",
    "version": 3
   },
   "file_extension": ".py",
   "mimetype": "text/x-python",
   "name": "python",
   "nbconvert_exporter": "python",
   "pygments_lexer": "ipython3",
   "version": "3.6.1"
  }
 },
 "nbformat": 4,
 "nbformat_minor": 2
}
